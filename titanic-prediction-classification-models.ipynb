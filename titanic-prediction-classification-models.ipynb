{
 "cells": [
  {
   "cell_type": "code",
   "execution_count": 1,
   "id": "2ac80097",
   "metadata": {
    "_cell_guid": "b1076dfc-b9ad-4769-8c92-a6c4dae69d19",
    "_uuid": "8f2839f25d086af736a60e9eeb907d3b93b6e0e5",
    "execution": {
     "iopub.execute_input": "2024-09-19T19:01:11.883406Z",
     "iopub.status.busy": "2024-09-19T19:01:11.882960Z",
     "iopub.status.idle": "2024-09-19T19:01:12.292922Z",
     "shell.execute_reply": "2024-09-19T19:01:12.291633Z"
    },
    "papermill": {
     "duration": 0.429493,
     "end_time": "2024-09-19T19:01:12.295401",
     "exception": false,
     "start_time": "2024-09-19T19:01:11.865908",
     "status": "completed"
    },
    "tags": []
   },
   "outputs": [
    {
     "name": "stdout",
     "output_type": "stream",
     "text": [
      "/kaggle/input/titanic/train.csv\n",
      "/kaggle/input/titanic/test.csv\n",
      "/kaggle/input/titanic/gender_submission.csv\n"
     ]
    }
   ],
   "source": [
    "# This Python 3 environment comes with many helpful analytics libraries installed\n",
    "# It is defined by the kaggle/python Docker image: https://github.com/kaggle/docker-python\n",
    "# For example, here's several helpful packages to load\n",
    "\n",
    "import numpy as np # linear algebra\n",
    "import pandas as pd # data processing, CSV file I/O (e.g. pd.read_csv)\n",
    "\n",
    "# Input data files are available in the read-only \"../input/\" directory\n",
    "# For example, running this (by clicking run or pressing Shift+Enter) will list all files under the input directory\n",
    "\n",
    "import os\n",
    "for dirname, _, filenames in os.walk('/kaggle/input'):\n",
    "    for filename in filenames:\n",
    "        print(os.path.join(dirname, filename))\n",
    "\n",
    "# You can write up to 20GB to the current directory (/kaggle/working/) that gets preserved as output when you create a version using \"Save & Run All\" \n",
    "# You can also write temporary files to /kaggle/temp/, but they won't be saved outside of the current session"
   ]
  },
  {
   "cell_type": "markdown",
   "id": "bf38e86f",
   "metadata": {
    "papermill": {
     "duration": 0.014322,
     "end_time": "2024-09-19T19:01:12.324962",
     "exception": false,
     "start_time": "2024-09-19T19:01:12.310640",
     "status": "completed"
    },
    "tags": []
   },
   "source": [
    "# **Titanic Machine Learning , Prediction**"
   ]
  },
  {
   "cell_type": "markdown",
   "id": "0e7a3a7a",
   "metadata": {
    "papermill": {
     "duration": 0.014169,
     "end_time": "2024-09-19T19:01:12.353817",
     "exception": false,
     "start_time": "2024-09-19T19:01:12.339648",
     "status": "completed"
    },
    "tags": []
   },
   "source": [
    "## **Import Libraries**"
   ]
  },
  {
   "cell_type": "code",
   "execution_count": 2,
   "id": "db366119",
   "metadata": {
    "execution": {
     "iopub.execute_input": "2024-09-19T19:01:12.388063Z",
     "iopub.status.busy": "2024-09-19T19:01:12.387561Z",
     "iopub.status.idle": "2024-09-19T19:01:13.969571Z",
     "shell.execute_reply": "2024-09-19T19:01:13.968486Z"
    },
    "papermill": {
     "duration": 1.603866,
     "end_time": "2024-09-19T19:01:13.972107",
     "exception": false,
     "start_time": "2024-09-19T19:01:12.368241",
     "status": "completed"
    },
    "tags": []
   },
   "outputs": [],
   "source": [
    "import pandas as pd \n",
    "import numpy as np\n",
    "import matplotlib.pyplot as plt\n",
    "import seaborn as sns   \n",
    "\n",
    "import warnings\n",
    "warnings.filterwarnings('ignore')"
   ]
  },
  {
   "cell_type": "markdown",
   "id": "e7e5ba8d",
   "metadata": {
    "papermill": {
     "duration": 0.014568,
     "end_time": "2024-09-19T19:01:14.002236",
     "exception": false,
     "start_time": "2024-09-19T19:01:13.987668",
     "status": "completed"
    },
    "tags": []
   },
   "source": [
    "## **Load Data**"
   ]
  },
  {
   "cell_type": "code",
   "execution_count": 3,
   "id": "64724524",
   "metadata": {
    "execution": {
     "iopub.execute_input": "2024-09-19T19:01:14.033417Z",
     "iopub.status.busy": "2024-09-19T19:01:14.032845Z",
     "iopub.status.idle": "2024-09-19T19:01:14.060731Z",
     "shell.execute_reply": "2024-09-19T19:01:14.059818Z"
    },
    "papermill": {
     "duration": 0.046474,
     "end_time": "2024-09-19T19:01:14.063300",
     "exception": false,
     "start_time": "2024-09-19T19:01:14.016826",
     "status": "completed"
    },
    "tags": []
   },
   "outputs": [],
   "source": [
    "train = pd.read_csv(r'/kaggle/input/titanic/train.csv')\n",
    "test = pd.read_csv(r'/kaggle/input/titanic/test.csv')\n",
    "train_test = [train, test]"
   ]
  },
  {
   "cell_type": "markdown",
   "id": "3681b370",
   "metadata": {
    "papermill": {
     "duration": 0.014328,
     "end_time": "2024-09-19T19:01:14.092673",
     "exception": false,
     "start_time": "2024-09-19T19:01:14.078345",
     "status": "completed"
    },
    "tags": []
   },
   "source": [
    "## **EDA**"
   ]
  },
  {
   "cell_type": "code",
   "execution_count": 4,
   "id": "a64509f2",
   "metadata": {
    "execution": {
     "iopub.execute_input": "2024-09-19T19:01:14.123622Z",
     "iopub.status.busy": "2024-09-19T19:01:14.122824Z",
     "iopub.status.idle": "2024-09-19T19:01:14.151202Z",
     "shell.execute_reply": "2024-09-19T19:01:14.150010Z"
    },
    "papermill": {
     "duration": 0.046562,
     "end_time": "2024-09-19T19:01:14.153594",
     "exception": false,
     "start_time": "2024-09-19T19:01:14.107032",
     "status": "completed"
    },
    "tags": []
   },
   "outputs": [
    {
     "data": {
      "text/html": [
       "<div>\n",
       "<style scoped>\n",
       "    .dataframe tbody tr th:only-of-type {\n",
       "        vertical-align: middle;\n",
       "    }\n",
       "\n",
       "    .dataframe tbody tr th {\n",
       "        vertical-align: top;\n",
       "    }\n",
       "\n",
       "    .dataframe thead th {\n",
       "        text-align: right;\n",
       "    }\n",
       "</style>\n",
       "<table border=\"1\" class=\"dataframe\">\n",
       "  <thead>\n",
       "    <tr style=\"text-align: right;\">\n",
       "      <th></th>\n",
       "      <th>PassengerId</th>\n",
       "      <th>Survived</th>\n",
       "      <th>Pclass</th>\n",
       "      <th>Name</th>\n",
       "      <th>Sex</th>\n",
       "      <th>Age</th>\n",
       "      <th>SibSp</th>\n",
       "      <th>Parch</th>\n",
       "      <th>Ticket</th>\n",
       "      <th>Fare</th>\n",
       "      <th>Cabin</th>\n",
       "      <th>Embarked</th>\n",
       "    </tr>\n",
       "  </thead>\n",
       "  <tbody>\n",
       "    <tr>\n",
       "      <th>0</th>\n",
       "      <td>1</td>\n",
       "      <td>0</td>\n",
       "      <td>3</td>\n",
       "      <td>Braund, Mr. Owen Harris</td>\n",
       "      <td>male</td>\n",
       "      <td>22.0</td>\n",
       "      <td>1</td>\n",
       "      <td>0</td>\n",
       "      <td>A/5 21171</td>\n",
       "      <td>7.2500</td>\n",
       "      <td>NaN</td>\n",
       "      <td>S</td>\n",
       "    </tr>\n",
       "    <tr>\n",
       "      <th>1</th>\n",
       "      <td>2</td>\n",
       "      <td>1</td>\n",
       "      <td>1</td>\n",
       "      <td>Cumings, Mrs. John Bradley (Florence Briggs Th...</td>\n",
       "      <td>female</td>\n",
       "      <td>38.0</td>\n",
       "      <td>1</td>\n",
       "      <td>0</td>\n",
       "      <td>PC 17599</td>\n",
       "      <td>71.2833</td>\n",
       "      <td>C85</td>\n",
       "      <td>C</td>\n",
       "    </tr>\n",
       "    <tr>\n",
       "      <th>2</th>\n",
       "      <td>3</td>\n",
       "      <td>1</td>\n",
       "      <td>3</td>\n",
       "      <td>Heikkinen, Miss. Laina</td>\n",
       "      <td>female</td>\n",
       "      <td>26.0</td>\n",
       "      <td>0</td>\n",
       "      <td>0</td>\n",
       "      <td>STON/O2. 3101282</td>\n",
       "      <td>7.9250</td>\n",
       "      <td>NaN</td>\n",
       "      <td>S</td>\n",
       "    </tr>\n",
       "    <tr>\n",
       "      <th>3</th>\n",
       "      <td>4</td>\n",
       "      <td>1</td>\n",
       "      <td>1</td>\n",
       "      <td>Futrelle, Mrs. Jacques Heath (Lily May Peel)</td>\n",
       "      <td>female</td>\n",
       "      <td>35.0</td>\n",
       "      <td>1</td>\n",
       "      <td>0</td>\n",
       "      <td>113803</td>\n",
       "      <td>53.1000</td>\n",
       "      <td>C123</td>\n",
       "      <td>S</td>\n",
       "    </tr>\n",
       "    <tr>\n",
       "      <th>4</th>\n",
       "      <td>5</td>\n",
       "      <td>0</td>\n",
       "      <td>3</td>\n",
       "      <td>Allen, Mr. William Henry</td>\n",
       "      <td>male</td>\n",
       "      <td>35.0</td>\n",
       "      <td>0</td>\n",
       "      <td>0</td>\n",
       "      <td>373450</td>\n",
       "      <td>8.0500</td>\n",
       "      <td>NaN</td>\n",
       "      <td>S</td>\n",
       "    </tr>\n",
       "  </tbody>\n",
       "</table>\n",
       "</div>"
      ],
      "text/plain": [
       "   PassengerId  Survived  Pclass  \\\n",
       "0            1         0       3   \n",
       "1            2         1       1   \n",
       "2            3         1       3   \n",
       "3            4         1       1   \n",
       "4            5         0       3   \n",
       "\n",
       "                                                Name     Sex   Age  SibSp  \\\n",
       "0                            Braund, Mr. Owen Harris    male  22.0      1   \n",
       "1  Cumings, Mrs. John Bradley (Florence Briggs Th...  female  38.0      1   \n",
       "2                             Heikkinen, Miss. Laina  female  26.0      0   \n",
       "3       Futrelle, Mrs. Jacques Heath (Lily May Peel)  female  35.0      1   \n",
       "4                           Allen, Mr. William Henry    male  35.0      0   \n",
       "\n",
       "   Parch            Ticket     Fare Cabin Embarked  \n",
       "0      0         A/5 21171   7.2500   NaN        S  \n",
       "1      0          PC 17599  71.2833   C85        C  \n",
       "2      0  STON/O2. 3101282   7.9250   NaN        S  \n",
       "3      0            113803  53.1000  C123        S  \n",
       "4      0            373450   8.0500   NaN        S  "
      ]
     },
     "execution_count": 4,
     "metadata": {},
     "output_type": "execute_result"
    }
   ],
   "source": [
    "train.head()"
   ]
  },
  {
   "cell_type": "code",
   "execution_count": 5,
   "id": "26a1b581",
   "metadata": {
    "execution": {
     "iopub.execute_input": "2024-09-19T19:01:14.184946Z",
     "iopub.status.busy": "2024-09-19T19:01:14.184545Z",
     "iopub.status.idle": "2024-09-19T19:01:14.207804Z",
     "shell.execute_reply": "2024-09-19T19:01:14.206571Z"
    },
    "papermill": {
     "duration": 0.041789,
     "end_time": "2024-09-19T19:01:14.210286",
     "exception": false,
     "start_time": "2024-09-19T19:01:14.168497",
     "status": "completed"
    },
    "tags": []
   },
   "outputs": [
    {
     "name": "stdout",
     "output_type": "stream",
     "text": [
      "<class 'pandas.core.frame.DataFrame'>\n",
      "RangeIndex: 891 entries, 0 to 890\n",
      "Data columns (total 12 columns):\n",
      " #   Column       Non-Null Count  Dtype  \n",
      "---  ------       --------------  -----  \n",
      " 0   PassengerId  891 non-null    int64  \n",
      " 1   Survived     891 non-null    int64  \n",
      " 2   Pclass       891 non-null    int64  \n",
      " 3   Name         891 non-null    object \n",
      " 4   Sex          891 non-null    object \n",
      " 5   Age          714 non-null    float64\n",
      " 6   SibSp        891 non-null    int64  \n",
      " 7   Parch        891 non-null    int64  \n",
      " 8   Ticket       891 non-null    object \n",
      " 9   Fare         891 non-null    float64\n",
      " 10  Cabin        204 non-null    object \n",
      " 11  Embarked     889 non-null    object \n",
      "dtypes: float64(2), int64(5), object(5)\n",
      "memory usage: 83.7+ KB\n"
     ]
    }
   ],
   "source": [
    "train.info()"
   ]
  },
  {
   "cell_type": "code",
   "execution_count": 6,
   "id": "885b8108",
   "metadata": {
    "execution": {
     "iopub.execute_input": "2024-09-19T19:01:14.242593Z",
     "iopub.status.busy": "2024-09-19T19:01:14.241737Z",
     "iopub.status.idle": "2024-09-19T19:01:14.250423Z",
     "shell.execute_reply": "2024-09-19T19:01:14.249493Z"
    },
    "papermill": {
     "duration": 0.027349,
     "end_time": "2024-09-19T19:01:14.252485",
     "exception": false,
     "start_time": "2024-09-19T19:01:14.225136",
     "status": "completed"
    },
    "tags": []
   },
   "outputs": [
    {
     "data": {
      "text/plain": [
       "PassengerId      0\n",
       "Survived         0\n",
       "Pclass           0\n",
       "Name             0\n",
       "Sex              0\n",
       "Age            177\n",
       "SibSp            0\n",
       "Parch            0\n",
       "Ticket           0\n",
       "Fare             0\n",
       "Cabin          687\n",
       "Embarked         2\n",
       "dtype: int64"
      ]
     },
     "execution_count": 6,
     "metadata": {},
     "output_type": "execute_result"
    }
   ],
   "source": [
    "train.isnull().sum()"
   ]
  },
  {
   "cell_type": "code",
   "execution_count": 7,
   "id": "da987f34",
   "metadata": {
    "execution": {
     "iopub.execute_input": "2024-09-19T19:01:14.284361Z",
     "iopub.status.busy": "2024-09-19T19:01:14.283618Z",
     "iopub.status.idle": "2024-09-19T19:01:14.292388Z",
     "shell.execute_reply": "2024-09-19T19:01:14.291316Z"
    },
    "papermill": {
     "duration": 0.027021,
     "end_time": "2024-09-19T19:01:14.294515",
     "exception": false,
     "start_time": "2024-09-19T19:01:14.267494",
     "status": "completed"
    },
    "tags": []
   },
   "outputs": [
    {
     "data": {
      "text/plain": [
       "PassengerId      0\n",
       "Pclass           0\n",
       "Name             0\n",
       "Sex              0\n",
       "Age             86\n",
       "SibSp            0\n",
       "Parch            0\n",
       "Ticket           0\n",
       "Fare             1\n",
       "Cabin          327\n",
       "Embarked         0\n",
       "dtype: int64"
      ]
     },
     "execution_count": 7,
     "metadata": {},
     "output_type": "execute_result"
    }
   ],
   "source": [
    "test.isnull().sum()"
   ]
  },
  {
   "cell_type": "code",
   "execution_count": 8,
   "id": "a40915bc",
   "metadata": {
    "execution": {
     "iopub.execute_input": "2024-09-19T19:01:14.326935Z",
     "iopub.status.busy": "2024-09-19T19:01:14.326132Z",
     "iopub.status.idle": "2024-09-19T19:01:14.334180Z",
     "shell.execute_reply": "2024-09-19T19:01:14.333176Z"
    },
    "papermill": {
     "duration": 0.026562,
     "end_time": "2024-09-19T19:01:14.336189",
     "exception": false,
     "start_time": "2024-09-19T19:01:14.309627",
     "status": "completed"
    },
    "tags": []
   },
   "outputs": [
    {
     "data": {
      "text/plain": [
       "PassengerId      int64\n",
       "Survived         int64\n",
       "Pclass           int64\n",
       "Name            object\n",
       "Sex             object\n",
       "Age            float64\n",
       "SibSp            int64\n",
       "Parch            int64\n",
       "Ticket          object\n",
       "Fare           float64\n",
       "Cabin           object\n",
       "Embarked        object\n",
       "dtype: object"
      ]
     },
     "execution_count": 8,
     "metadata": {},
     "output_type": "execute_result"
    }
   ],
   "source": [
    "#get object data type\n",
    "train.dtypes"
   ]
  },
  {
   "cell_type": "code",
   "execution_count": 9,
   "id": "24409755",
   "metadata": {
    "execution": {
     "iopub.execute_input": "2024-09-19T19:01:14.368123Z",
     "iopub.status.busy": "2024-09-19T19:01:14.367692Z",
     "iopub.status.idle": "2024-09-19T19:01:14.380158Z",
     "shell.execute_reply": "2024-09-19T19:01:14.379139Z"
    },
    "papermill": {
     "duration": 0.030977,
     "end_time": "2024-09-19T19:01:14.382303",
     "exception": false,
     "start_time": "2024-09-19T19:01:14.351326",
     "status": "completed"
    },
    "tags": []
   },
   "outputs": [
    {
     "data": {
      "text/plain": [
       "PassengerId    891\n",
       "Survived         2\n",
       "Pclass           3\n",
       "Name           891\n",
       "Sex              2\n",
       "Age             88\n",
       "SibSp            7\n",
       "Parch            7\n",
       "Ticket         681\n",
       "Fare           248\n",
       "Cabin          147\n",
       "Embarked         3\n",
       "dtype: int64"
      ]
     },
     "execution_count": 9,
     "metadata": {},
     "output_type": "execute_result"
    }
   ],
   "source": [
    "#explore unique values\n",
    "train.nunique()"
   ]
  },
  {
   "cell_type": "code",
   "execution_count": 10,
   "id": "d96758fb",
   "metadata": {
    "execution": {
     "iopub.execute_input": "2024-09-19T19:01:14.415058Z",
     "iopub.status.busy": "2024-09-19T19:01:14.414280Z",
     "iopub.status.idle": "2024-09-19T19:01:14.732342Z",
     "shell.execute_reply": "2024-09-19T19:01:14.731228Z"
    },
    "papermill": {
     "duration": 0.336877,
     "end_time": "2024-09-19T19:01:14.734483",
     "exception": false,
     "start_time": "2024-09-19T19:01:14.397606",
     "status": "completed"
    },
    "tags": []
   },
   "outputs": [
    {
     "data": {
      "text/plain": [
       "<Axes: xlabel='Cabin'>"
      ]
     },
     "execution_count": 10,
     "metadata": {},
     "output_type": "execute_result"
    },
    {
     "data": {
      "image/png": "[encoded data removed]",
      "text/plain": [
       "<Figure size 800x500 with 1 Axes>"
      ]
     },
     "metadata": {},
     "output_type": "display_data"
    }
   ],
   "source": [
    "train['Cabin'].value_counts().head(10).plot(kind='bar',figsize=(8,5))"
   ]
  },
  {
   "cell_type": "code",
   "execution_count": 11,
   "id": "d1be401c",
   "metadata": {
    "execution": {
     "iopub.execute_input": "2024-09-19T19:01:14.768247Z",
     "iopub.status.busy": "2024-09-19T19:01:14.767524Z",
     "iopub.status.idle": "2024-09-19T19:01:14.983367Z",
     "shell.execute_reply": "2024-09-19T19:01:14.982080Z"
    },
    "papermill": {
     "duration": 0.235122,
     "end_time": "2024-09-19T19:01:14.985526",
     "exception": false,
     "start_time": "2024-09-19T19:01:14.750404",
     "status": "completed"
    },
    "tags": []
   },
   "outputs": [
    {
     "data": {
      "text/plain": [
       "<Axes: xlabel='Embarked'>"
      ]
     },
     "execution_count": 11,
     "metadata": {},
     "output_type": "execute_result"
    },
    {
     "data": {
      "image/png": "[encoded data removed]",
      "text/plain": [
       "<Figure size 800x500 with 1 Axes>"
      ]
     },
     "metadata": {},
     "output_type": "display_data"
    }
   ],
   "source": [
    "train['Embarked'].value_counts().head(10).plot(kind='bar',figsize=(8,5))"
   ]
  },
  {
   "cell_type": "code",
   "execution_count": 12,
   "id": "67124229",
   "metadata": {
    "execution": {
     "iopub.execute_input": "2024-09-19T19:01:15.019446Z",
     "iopub.status.busy": "2024-09-19T19:01:15.019021Z",
     "iopub.status.idle": "2024-09-19T19:01:15.232771Z",
     "shell.execute_reply": "2024-09-19T19:01:15.231705Z"
    },
    "papermill": {
     "duration": 0.233433,
     "end_time": "2024-09-19T19:01:15.235185",
     "exception": false,
     "start_time": "2024-09-19T19:01:15.001752",
     "status": "completed"
    },
    "tags": []
   },
   "outputs": [
    {
     "data": {
      "text/plain": [
       "<Axes: xlabel='Embarked'>"
      ]
     },
     "execution_count": 12,
     "metadata": {},
     "output_type": "execute_result"
    },
    {
     "data": {
      "image/png": "[encoded data removed]",
      "text/plain": [
       "<Figure size 800x500 with 1 Axes>"
      ]
     },
     "metadata": {},
     "output_type": "display_data"
    }
   ],
   "source": [
    "train['Embarked'].value_counts().plot(kind='bar',figsize=(8,5))"
   ]
  },
  {
   "cell_type": "code",
   "execution_count": 13,
   "id": "c7ad98f9",
   "metadata": {
    "execution": {
     "iopub.execute_input": "2024-09-19T19:01:15.270264Z",
     "iopub.status.busy": "2024-09-19T19:01:15.269446Z",
     "iopub.status.idle": "2024-09-19T19:01:15.441559Z",
     "shell.execute_reply": "2024-09-19T19:01:15.440528Z"
    },
    "papermill": {
     "duration": 0.192112,
     "end_time": "2024-09-19T19:01:15.443882",
     "exception": false,
     "start_time": "2024-09-19T19:01:15.251770",
     "status": "completed"
    },
    "tags": []
   },
   "outputs": [
    {
     "data": {
      "text/plain": [
       "<Axes: xlabel='Sex'>"
      ]
     },
     "execution_count": 13,
     "metadata": {},
     "output_type": "execute_result"
    },
    {
     "data": {
      "image/png": "[encoded data removed]",
      "text/plain": [
       "<Figure size 800x500 with 1 Axes>"
      ]
     },
     "metadata": {},
     "output_type": "display_data"
    }
   ],
   "source": [
    "train['Sex'].value_counts().plot(kind='bar',figsize=(8,5))"
   ]
  },
  {
   "cell_type": "code",
   "execution_count": 14,
   "id": "d6b0d5c7",
   "metadata": {
    "execution": {
     "iopub.execute_input": "2024-09-19T19:01:15.479932Z",
     "iopub.status.busy": "2024-09-19T19:01:15.479019Z",
     "iopub.status.idle": "2024-09-19T19:01:15.713180Z",
     "shell.execute_reply": "2024-09-19T19:01:15.712136Z"
    },
    "papermill": {
     "duration": 0.254559,
     "end_time": "2024-09-19T19:01:15.715433",
     "exception": false,
     "start_time": "2024-09-19T19:01:15.460874",
     "status": "completed"
    },
    "tags": []
   },
   "outputs": [
    {
     "data": {
      "text/plain": [
       "<Axes: xlabel='Ticket'>"
      ]
     },
     "execution_count": 14,
     "metadata": {},
     "output_type": "execute_result"
    },
    {
     "data": {
      "image/png": "[encoded data removed]",
      "text/plain": [
       "<Figure size 800x500 with 1 Axes>"
      ]
     },
     "metadata": {},
     "output_type": "display_data"
    }
   ],
   "source": [
    "train['Ticket'].value_counts().head(10).plot(kind='bar',figsize =(8,5))"
   ]
  },
  {
   "cell_type": "code",
   "execution_count": 15,
   "id": "b3d9dfb5",
   "metadata": {
    "execution": {
     "iopub.execute_input": "2024-09-19T19:01:15.752525Z",
     "iopub.status.busy": "2024-09-19T19:01:15.751663Z",
     "iopub.status.idle": "2024-09-19T19:01:16.004687Z",
     "shell.execute_reply": "2024-09-19T19:01:16.003540Z"
    },
    "papermill": {
     "duration": 0.274013,
     "end_time": "2024-09-19T19:01:16.007072",
     "exception": false,
     "start_time": "2024-09-19T19:01:15.733059",
     "status": "completed"
    },
    "tags": []
   },
   "outputs": [
    {
     "data": {
      "text/plain": [
       "(array([216.,   0.,   0.,   0.,   0., 184.,   0.,   0.,   0., 491.]),\n",
       " array([1. , 1.2, 1.4, 1.6, 1.8, 2. , 2.2, 2.4, 2.6, 2.8, 3. ]),\n",
       " <BarContainer object of 10 artists>)"
      ]
     },
     "execution_count": 15,
     "metadata": {},
     "output_type": "execute_result"
    },
    {
     "data": {
      "image/png": "[encoded data removed]",
      "text/plain": [
       "<Figure size 640x480 with 1 Axes>"
      ]
     },
     "metadata": {},
     "output_type": "display_data"
    }
   ],
   "source": [
    "#histogram\n",
    "plt.hist(train['Pclass'])"
   ]
  },
  {
   "cell_type": "markdown",
   "id": "d9939be1",
   "metadata": {
    "papermill": {
     "duration": 0.019055,
     "end_time": "2024-09-19T19:01:16.044019",
     "exception": false,
     "start_time": "2024-09-19T19:01:16.024964",
     "status": "completed"
    },
    "tags": []
   },
   "source": [
    "## Feature Engineering"
   ]
  },
  {
   "cell_type": "code",
   "execution_count": 16,
   "id": "9453bae4",
   "metadata": {
    "execution": {
     "iopub.execute_input": "2024-09-19T19:01:16.082882Z",
     "iopub.status.busy": "2024-09-19T19:01:16.082475Z",
     "iopub.status.idle": "2024-09-19T19:01:16.100080Z",
     "shell.execute_reply": "2024-09-19T19:01:16.099016Z"
    },
    "papermill": {
     "duration": 0.039345,
     "end_time": "2024-09-19T19:01:16.102577",
     "exception": false,
     "start_time": "2024-09-19T19:01:16.063232",
     "status": "completed"
    },
    "tags": []
   },
   "outputs": [
    {
     "name": "stdout",
     "output_type": "stream",
     "text": [
      "<class 'pandas.core.frame.DataFrame'>\n",
      "RangeIndex: 891 entries, 0 to 890\n",
      "Data columns (total 12 columns):\n",
      " #   Column       Non-Null Count  Dtype  \n",
      "---  ------       --------------  -----  \n",
      " 0   PassengerId  891 non-null    int64  \n",
      " 1   Survived     891 non-null    int64  \n",
      " 2   Pclass       891 non-null    int64  \n",
      " 3   Name         891 non-null    object \n",
      " 4   Sex          891 non-null    object \n",
      " 5   Age          714 non-null    float64\n",
      " 6   SibSp        891 non-null    int64  \n",
      " 7   Parch        891 non-null    int64  \n",
      " 8   Ticket       891 non-null    object \n",
      " 9   Fare         891 non-null    float64\n",
      " 10  Cabin        204 non-null    object \n",
      " 11  Embarked     889 non-null    object \n",
      "dtypes: float64(2), int64(5), object(5)\n",
      "memory usage: 83.7+ KB\n",
      "--------------------------------------------------------------------\n",
      "<class 'pandas.core.frame.DataFrame'>\n",
      "RangeIndex: 418 entries, 0 to 417\n",
      "Data columns (total 11 columns):\n",
      " #   Column       Non-Null Count  Dtype  \n",
      "---  ------       --------------  -----  \n",
      " 0   PassengerId  418 non-null    int64  \n",
      " 1   Pclass       418 non-null    int64  \n",
      " 2   Name         418 non-null    object \n",
      " 3   Sex          418 non-null    object \n",
      " 4   Age          332 non-null    float64\n",
      " 5   SibSp        418 non-null    int64  \n",
      " 6   Parch        418 non-null    int64  \n",
      " 7   Ticket       418 non-null    object \n",
      " 8   Fare         417 non-null    float64\n",
      " 9   Cabin        91 non-null     object \n",
      " 10  Embarked     418 non-null    object \n",
      "dtypes: float64(2), int64(4), object(5)\n",
      "memory usage: 36.0+ KB\n",
      "--------------------------------------------------------------------\n"
     ]
    }
   ],
   "source": [
    "for data in train_test:\n",
    "    data.info()\n",
    "    print(\"--------------------------------------------------------------------\")"
   ]
  },
  {
   "cell_type": "code",
   "execution_count": 17,
   "id": "b110da25",
   "metadata": {
    "execution": {
     "iopub.execute_input": "2024-09-19T19:01:16.140346Z",
     "iopub.status.busy": "2024-09-19T19:01:16.139560Z",
     "iopub.status.idle": "2024-09-19T19:01:16.147913Z",
     "shell.execute_reply": "2024-09-19T19:01:16.146999Z"
    },
    "papermill": {
     "duration": 0.029566,
     "end_time": "2024-09-19T19:01:16.150158",
     "exception": false,
     "start_time": "2024-09-19T19:01:16.120592",
     "status": "completed"
    },
    "tags": []
   },
   "outputs": [
    {
     "name": "stdout",
     "output_type": "stream",
     "text": [
      "PassengerId      0\n",
      "Survived         0\n",
      "Pclass           0\n",
      "Name             0\n",
      "Sex              0\n",
      "Age            177\n",
      "SibSp            0\n",
      "Parch            0\n",
      "Ticket           0\n",
      "Fare             0\n",
      "Cabin          687\n",
      "Embarked         2\n",
      "dtype: int64\n",
      "---------------------------------------------------------------\n",
      "PassengerId      0\n",
      "Pclass           0\n",
      "Name             0\n",
      "Sex              0\n",
      "Age             86\n",
      "SibSp            0\n",
      "Parch            0\n",
      "Ticket           0\n",
      "Fare             1\n",
      "Cabin          327\n",
      "Embarked         0\n",
      "dtype: int64\n",
      "---------------------------------------------------------------\n"
     ]
    }
   ],
   "source": [
    "for data in train_test:\n",
    "    print(data.isnull().sum())\n",
    "    print(\"---------------------------------------------------------------\")"
   ]
  },
  {
   "cell_type": "markdown",
   "id": "59d37b83",
   "metadata": {
    "papermill": {
     "duration": 0.017491,
     "end_time": "2024-09-19T19:01:16.185629",
     "exception": false,
     "start_time": "2024-09-19T19:01:16.168138",
     "status": "completed"
    },
    "tags": []
   },
   "source": [
    "### Name"
   ]
  },
  {
   "cell_type": "code",
   "execution_count": 18,
   "id": "ba03ef5d",
   "metadata": {
    "execution": {
     "iopub.execute_input": "2024-09-19T19:01:16.222972Z",
     "iopub.status.busy": "2024-09-19T19:01:16.222569Z",
     "iopub.status.idle": "2024-09-19T19:01:16.235575Z",
     "shell.execute_reply": "2024-09-19T19:01:16.234341Z"
    },
    "papermill": {
     "duration": 0.03423,
     "end_time": "2024-09-19T19:01:16.237842",
     "exception": false,
     "start_time": "2024-09-19T19:01:16.203612",
     "status": "completed"
    },
    "tags": []
   },
   "outputs": [
    {
     "name": "stdout",
     "output_type": "stream",
     "text": [
      "Title\n",
      "Mr          517\n",
      "Miss        182\n",
      "Mrs         125\n",
      "Master       40\n",
      "Dr            7\n",
      "Rev           6\n",
      "Mlle          2\n",
      "Major         2\n",
      "Col           2\n",
      "Countess      1\n",
      "Capt          1\n",
      "Ms            1\n",
      "Sir           1\n",
      "Lady          1\n",
      "Mme           1\n",
      "Don           1\n",
      "Jonkheer      1\n",
      "Name: count, dtype: int64\n",
      "Title\n",
      "Mr        240\n",
      "Miss       78\n",
      "Mrs        72\n",
      "Master     21\n",
      "Col         2\n",
      "Rev         2\n",
      "Ms          1\n",
      "Dr          1\n",
      "Dona        1\n",
      "Name: count, dtype: int64\n"
     ]
    }
   ],
   "source": [
    "for data in train_test:\n",
    "    data['Title'] = data['Name'].str.extract('([A-Za-z]+)\\.', expand=False)\n",
    "    print(data['Title'].value_counts())"
   ]
  },
  {
   "cell_type": "code",
   "execution_count": 19,
   "id": "a89940b4",
   "metadata": {
    "execution": {
     "iopub.execute_input": "2024-09-19T19:01:16.276222Z",
     "iopub.status.busy": "2024-09-19T19:01:16.275374Z",
     "iopub.status.idle": "2024-09-19T19:01:16.288137Z",
     "shell.execute_reply": "2024-09-19T19:01:16.287012Z"
    },
    "papermill": {
     "duration": 0.03437,
     "end_time": "2024-09-19T19:01:16.290322",
     "exception": false,
     "start_time": "2024-09-19T19:01:16.255952",
     "status": "completed"
    },
    "tags": []
   },
   "outputs": [],
   "source": [
    "title_mapping = {\"Mr\": 0, \"Miss\": 1, \"Mrs\": 2, \n",
    "                 \"Master\": 3, \"Dr\": 3, \"Rev\": 3, \"Col\": 3, \"Major\": 3, \"Mlle\": 3,\"Countess\": 3,\n",
    "                 \"Ms\": 3, \"Lady\": 3, \"Jonkheer\": 3, \"Don\": 3, \"Dona\" : 3, \"Mme\": 3,\"Capt\": 3,\"Sir\": 3 }\n",
    "for data in train_test:\n",
    "    data['Title'] = data['Title'].map(title_mapping)\n",
    "    #drop name\n",
    "    data.drop('Name',axis=1,inplace=True)"
   ]
  },
  {
   "cell_type": "code",
   "execution_count": 20,
   "id": "3ad4fdc9",
   "metadata": {
    "execution": {
     "iopub.execute_input": "2024-09-19T19:01:16.328367Z",
     "iopub.status.busy": "2024-09-19T19:01:16.327923Z",
     "iopub.status.idle": "2024-09-19T19:01:16.545768Z",
     "shell.execute_reply": "2024-09-19T19:01:16.544670Z"
    },
    "papermill": {
     "duration": 0.23955,
     "end_time": "2024-09-19T19:01:16.548198",
     "exception": false,
     "start_time": "2024-09-19T19:01:16.308648",
     "status": "completed"
    },
    "tags": []
   },
   "outputs": [
    {
     "data": {
      "text/plain": [
       "<Axes: xlabel='Title'>"
      ]
     },
     "execution_count": 20,
     "metadata": {},
     "output_type": "execute_result"
    },
    {
     "data": {
      "image/png": "[encoded data removed]",
      "text/plain": [
       "<Figure size 800x500 with 1 Axes>"
      ]
     },
     "metadata": {},
     "output_type": "display_data"
    }
   ],
   "source": [
    "train['Title'].value_counts().plot(kind='bar',figsize=(8,5))"
   ]
  },
  {
   "cell_type": "markdown",
   "id": "13f851f0",
   "metadata": {
    "papermill": {
     "duration": 0.018071,
     "end_time": "2024-09-19T19:01:16.584812",
     "exception": false,
     "start_time": "2024-09-19T19:01:16.566741",
     "status": "completed"
    },
    "tags": []
   },
   "source": [
    "### Sex\n"
   ]
  },
  {
   "cell_type": "code",
   "execution_count": 21,
   "id": "824e40f3",
   "metadata": {
    "execution": {
     "iopub.execute_input": "2024-09-19T19:01:16.623024Z",
     "iopub.status.busy": "2024-09-19T19:01:16.622616Z",
     "iopub.status.idle": "2024-09-19T19:01:16.777640Z",
     "shell.execute_reply": "2024-09-19T19:01:16.776741Z"
    },
    "papermill": {
     "duration": 0.176966,
     "end_time": "2024-09-19T19:01:16.780024",
     "exception": false,
     "start_time": "2024-09-19T19:01:16.603058",
     "status": "completed"
    },
    "tags": []
   },
   "outputs": [],
   "source": [
    "#Label Encoding\n",
    "from sklearn.preprocessing import LabelEncoder\n",
    "for data in train_test:\n",
    "    le = LabelEncoder()\n",
    "    le.fit(data['Sex'])\n",
    "    data['Sex'] = le.transform(data['Sex'])"
   ]
  },
  {
   "cell_type": "code",
   "execution_count": 22,
   "id": "145968ce",
   "metadata": {
    "execution": {
     "iopub.execute_input": "2024-09-19T19:01:16.818607Z",
     "iopub.status.busy": "2024-09-19T19:01:16.818205Z",
     "iopub.status.idle": "2024-09-19T19:01:17.020211Z",
     "shell.execute_reply": "2024-09-19T19:01:17.019216Z"
    },
    "papermill": {
     "duration": 0.224046,
     "end_time": "2024-09-19T19:01:17.022516",
     "exception": false,
     "start_time": "2024-09-19T19:01:16.798470",
     "status": "completed"
    },
    "tags": []
   },
   "outputs": [
    {
     "data": {
      "text/plain": [
       "<Axes: xlabel='Sex'>"
      ]
     },
     "execution_count": 22,
     "metadata": {},
     "output_type": "execute_result"
    },
    {
     "data": {
      "image/png": "[encoded data removed]",
      "text/plain": [
       "<Figure size 800x500 with 1 Axes>"
      ]
     },
     "metadata": {},
     "output_type": "display_data"
    }
   ],
   "source": [
    "test['Sex'].value_counts().plot(kind='bar',figsize=(8,5))"
   ]
  },
  {
   "cell_type": "markdown",
   "id": "df043118",
   "metadata": {
    "papermill": {
     "duration": 0.02086,
     "end_time": "2024-09-19T19:01:17.062198",
     "exception": false,
     "start_time": "2024-09-19T19:01:17.041338",
     "status": "completed"
    },
    "tags": []
   },
   "source": [
    "### Age"
   ]
  },
  {
   "cell_type": "code",
   "execution_count": 23,
   "id": "a006c544",
   "metadata": {
    "execution": {
     "iopub.execute_input": "2024-09-19T19:01:17.101304Z",
     "iopub.status.busy": "2024-09-19T19:01:17.100877Z",
     "iopub.status.idle": "2024-09-19T19:01:17.111720Z",
     "shell.execute_reply": "2024-09-19T19:01:17.110757Z"
    },
    "papermill": {
     "duration": 0.032764,
     "end_time": "2024-09-19T19:01:17.113835",
     "exception": false,
     "start_time": "2024-09-19T19:01:17.081071",
     "status": "completed"
    },
    "tags": []
   },
   "outputs": [
    {
     "data": {
      "text/plain": [
       "Age\n",
       "21.0    17\n",
       "24.0    17\n",
       "22.0    16\n",
       "30.0    15\n",
       "18.0    13\n",
       "        ..\n",
       "76.0     1\n",
       "28.5     1\n",
       "22.5     1\n",
       "62.0     1\n",
       "38.5     1\n",
       "Name: count, Length: 79, dtype: int64"
      ]
     },
     "execution_count": 23,
     "metadata": {},
     "output_type": "execute_result"
    }
   ],
   "source": [
    "test['Age'].value_counts()"
   ]
  },
  {
   "cell_type": "code",
   "execution_count": 24,
   "id": "c1422c92",
   "metadata": {
    "execution": {
     "iopub.execute_input": "2024-09-19T19:01:17.153493Z",
     "iopub.status.busy": "2024-09-19T19:01:17.152703Z",
     "iopub.status.idle": "2024-09-19T19:01:17.158759Z",
     "shell.execute_reply": "2024-09-19T19:01:17.157775Z"
    },
    "papermill": {
     "duration": 0.028589,
     "end_time": "2024-09-19T19:01:17.161277",
     "exception": false,
     "start_time": "2024-09-19T19:01:17.132688",
     "status": "completed"
    },
    "tags": []
   },
   "outputs": [
    {
     "name": "stdout",
     "output_type": "stream",
     "text": [
      "177\n",
      "86\n"
     ]
    }
   ],
   "source": [
    "for data in train_test:\n",
    "    print(data['Age'].isnull().sum())"
   ]
  },
  {
   "cell_type": "code",
   "execution_count": 25,
   "id": "739ace22",
   "metadata": {
    "execution": {
     "iopub.execute_input": "2024-09-19T19:01:17.201188Z",
     "iopub.status.busy": "2024-09-19T19:01:17.200142Z",
     "iopub.status.idle": "2024-09-19T19:01:17.214030Z",
     "shell.execute_reply": "2024-09-19T19:01:17.212851Z"
    },
    "papermill": {
     "duration": 0.036212,
     "end_time": "2024-09-19T19:01:17.216336",
     "exception": false,
     "start_time": "2024-09-19T19:01:17.180124",
     "status": "completed"
    },
    "tags": []
   },
   "outputs": [
    {
     "data": {
      "text/plain": [
       "0      30.0\n",
       "1      35.0\n",
       "2      21.0\n",
       "3      35.0\n",
       "4      30.0\n",
       "       ... \n",
       "886     9.0\n",
       "887    21.0\n",
       "888    21.0\n",
       "889    30.0\n",
       "890    30.0\n",
       "Name: Age, Length: 891, dtype: float64"
      ]
     },
     "execution_count": 25,
     "metadata": {},
     "output_type": "execute_result"
    }
   ],
   "source": [
    "train.groupby(\"Title\")[\"Age\"].transform(\"median\")"
   ]
  },
  {
   "cell_type": "code",
   "execution_count": 26,
   "id": "d68b7125",
   "metadata": {
    "execution": {
     "iopub.execute_input": "2024-09-19T19:01:17.256480Z",
     "iopub.status.busy": "2024-09-19T19:01:17.255520Z",
     "iopub.status.idle": "2024-09-19T19:01:17.264216Z",
     "shell.execute_reply": "2024-09-19T19:01:17.263212Z"
    },
    "papermill": {
     "duration": 0.030897,
     "end_time": "2024-09-19T19:01:17.266295",
     "exception": false,
     "start_time": "2024-09-19T19:01:17.235398",
     "status": "completed"
    },
    "tags": []
   },
   "outputs": [],
   "source": [
    "#replace null values\n",
    "for data in train_test:\n",
    "    data['Age'].fillna(train.groupby(\"Title\")[\"Age\"].transform(\"median\"),inplace=True)"
   ]
  },
  {
   "cell_type": "code",
   "execution_count": 27,
   "id": "73a18887",
   "metadata": {
    "execution": {
     "iopub.execute_input": "2024-09-19T19:01:17.357803Z",
     "iopub.status.busy": "2024-09-19T19:01:17.356861Z",
     "iopub.status.idle": "2024-09-19T19:01:17.364178Z",
     "shell.execute_reply": "2024-09-19T19:01:17.363219Z"
    },
    "papermill": {
     "duration": 0.080798,
     "end_time": "2024-09-19T19:01:17.366195",
     "exception": false,
     "start_time": "2024-09-19T19:01:17.285397",
     "status": "completed"
    },
    "tags": []
   },
   "outputs": [
    {
     "data": {
      "text/plain": [
       "0"
      ]
     },
     "execution_count": 27,
     "metadata": {},
     "output_type": "execute_result"
    }
   ],
   "source": [
    "train['Age'].isnull().sum()\n",
    "test['Age'].isnull().sum()"
   ]
  },
  {
   "cell_type": "code",
   "execution_count": 28,
   "id": "cf441cfc",
   "metadata": {
    "execution": {
     "iopub.execute_input": "2024-09-19T19:01:17.406579Z",
     "iopub.status.busy": "2024-09-19T19:01:17.405770Z",
     "iopub.status.idle": "2024-09-19T19:01:17.420195Z",
     "shell.execute_reply": "2024-09-19T19:01:17.419141Z"
    },
    "papermill": {
     "duration": 0.036973,
     "end_time": "2024-09-19T19:01:17.422272",
     "exception": false,
     "start_time": "2024-09-19T19:01:17.385299",
     "status": "completed"
    },
    "tags": []
   },
   "outputs": [],
   "source": [
    "#Binning\n",
    "for data in train_test:\n",
    "    data.loc[data['Age'] <= 16, 'Age'] = 0\n",
    "    data.loc[(data['Age'] > 16) & (data['Age'] <= 26), 'Age'] = 1\n",
    "    data.loc[(data['Age'] > 26) & (data['Age'] <= 36), 'Age'] = 2\n",
    "    data.loc[(data['Age'] > 36) & (data['Age'] <= 62), 'Age'] = 3\n",
    "    data.loc[data['Age'] > 62, 'Age'] = 4\n"
   ]
  },
  {
   "cell_type": "markdown",
   "id": "7522239a",
   "metadata": {
    "papermill": {
     "duration": 0.018598,
     "end_time": "2024-09-19T19:01:17.459971",
     "exception": false,
     "start_time": "2024-09-19T19:01:17.441373",
     "status": "completed"
    },
    "tags": []
   },
   "source": [
    "### PassengerId"
   ]
  },
  {
   "cell_type": "code",
   "execution_count": 29,
   "id": "931235ba",
   "metadata": {
    "execution": {
     "iopub.execute_input": "2024-09-19T19:01:17.500311Z",
     "iopub.status.busy": "2024-09-19T19:01:17.499587Z",
     "iopub.status.idle": "2024-09-19T19:01:17.505386Z",
     "shell.execute_reply": "2024-09-19T19:01:17.504366Z"
    },
    "papermill": {
     "duration": 0.028235,
     "end_time": "2024-09-19T19:01:17.507458",
     "exception": false,
     "start_time": "2024-09-19T19:01:17.479223",
     "status": "completed"
    },
    "tags": []
   },
   "outputs": [],
   "source": [
    "#drop PassengerId\n",
    "train.drop('PassengerId',axis=1,inplace=True)"
   ]
  },
  {
   "cell_type": "markdown",
   "id": "34524f90",
   "metadata": {
    "papermill": {
     "duration": 0.018691,
     "end_time": "2024-09-19T19:01:17.545970",
     "exception": false,
     "start_time": "2024-09-19T19:01:17.527279",
     "status": "completed"
    },
    "tags": []
   },
   "source": [
    "### Ticket"
   ]
  },
  {
   "cell_type": "code",
   "execution_count": 30,
   "id": "69bffb27",
   "metadata": {
    "execution": {
     "iopub.execute_input": "2024-09-19T19:01:17.586547Z",
     "iopub.status.busy": "2024-09-19T19:01:17.586129Z",
     "iopub.status.idle": "2024-09-19T19:01:17.596037Z",
     "shell.execute_reply": "2024-09-19T19:01:17.595040Z"
    },
    "papermill": {
     "duration": 0.033341,
     "end_time": "2024-09-19T19:01:17.598578",
     "exception": false,
     "start_time": "2024-09-19T19:01:17.565237",
     "status": "completed"
    },
    "tags": []
   },
   "outputs": [
    {
     "name": "stdout",
     "output_type": "stream",
     "text": [
      "Ticket\n",
      "347082      7\n",
      "CA. 2343    7\n",
      "1601        7\n",
      "3101295     6\n",
      "CA 2144     6\n",
      "           ..\n",
      "9234        1\n",
      "19988       1\n",
      "2693        1\n",
      "PC 17612    1\n",
      "370376      1\n",
      "Name: count, Length: 681, dtype: int64\n",
      "681\n",
      "---------------------------------------------------------------\n",
      "Ticket\n",
      "PC 17608    5\n",
      "CA. 2343    4\n",
      "113503      4\n",
      "PC 17483    3\n",
      "220845      3\n",
      "           ..\n",
      "349226      1\n",
      "2621        1\n",
      "4133        1\n",
      "113780      1\n",
      "2668        1\n",
      "Name: count, Length: 363, dtype: int64\n",
      "363\n",
      "---------------------------------------------------------------\n"
     ]
    }
   ],
   "source": [
    "for data in train_test:\n",
    "    print(data['Ticket'].value_counts())\n",
    "    print(data['Ticket'].unique().shape[0])\n",
    "    print(\"---------------------------------------------------------------\")"
   ]
  },
  {
   "cell_type": "markdown",
   "id": "5f828c39",
   "metadata": {
    "papermill": {
     "duration": 0.018973,
     "end_time": "2024-09-19T19:01:17.636919",
     "exception": false,
     "start_time": "2024-09-19T19:01:17.617946",
     "status": "completed"
    },
    "tags": []
   },
   "source": [
    "### Embarked"
   ]
  },
  {
   "cell_type": "code",
   "execution_count": 31,
   "id": "01f5a250",
   "metadata": {
    "execution": {
     "iopub.execute_input": "2024-09-19T19:01:17.677636Z",
     "iopub.status.busy": "2024-09-19T19:01:17.676716Z",
     "iopub.status.idle": "2024-09-19T19:01:17.684764Z",
     "shell.execute_reply": "2024-09-19T19:01:17.683698Z"
    },
    "papermill": {
     "duration": 0.030737,
     "end_time": "2024-09-19T19:01:17.686848",
     "exception": false,
     "start_time": "2024-09-19T19:01:17.656111",
     "status": "completed"
    },
    "tags": []
   },
   "outputs": [
    {
     "name": "stdout",
     "output_type": "stream",
     "text": [
      "Embarked\n",
      "S    644\n",
      "C    168\n",
      "Q     77\n",
      "Name: count, dtype: int64\n",
      "Embarked\n",
      "S    270\n",
      "C    102\n",
      "Q     46\n",
      "Name: count, dtype: int64\n"
     ]
    }
   ],
   "source": [
    "for data in train_test:\n",
    "    print(data['Embarked'].value_counts())"
   ]
  },
  {
   "cell_type": "code",
   "execution_count": 32,
   "id": "ad7cabc5",
   "metadata": {
    "execution": {
     "iopub.execute_input": "2024-09-19T19:01:17.728160Z",
     "iopub.status.busy": "2024-09-19T19:01:17.727231Z",
     "iopub.status.idle": "2024-09-19T19:01:17.736120Z",
     "shell.execute_reply": "2024-09-19T19:01:17.735252Z"
    },
    "papermill": {
     "duration": 0.031707,
     "end_time": "2024-09-19T19:01:17.738370",
     "exception": false,
     "start_time": "2024-09-19T19:01:17.706663",
     "status": "completed"
    },
    "tags": []
   },
   "outputs": [],
   "source": [
    "#fill out missing embarked with S\n",
    "#replace with 0,1,2\n",
    "for data in train_test:\n",
    "    data['Embarked'] = data['Embarked'].fillna('S')\n",
    "    data['Embarked'] = data['Embarked'].map( {'S': 0, 'C': 1, 'Q': 2} ).astype(int)"
   ]
  },
  {
   "cell_type": "markdown",
   "id": "882c7dc1",
   "metadata": {
    "papermill": {
     "duration": 0.018881,
     "end_time": "2024-09-19T19:01:17.776463",
     "exception": false,
     "start_time": "2024-09-19T19:01:17.757582",
     "status": "completed"
    },
    "tags": []
   },
   "source": [
    "### Fare"
   ]
  },
  {
   "cell_type": "code",
   "execution_count": 33,
   "id": "a210607e",
   "metadata": {
    "execution": {
     "iopub.execute_input": "2024-09-19T19:01:17.816872Z",
     "iopub.status.busy": "2024-09-19T19:01:17.816195Z",
     "iopub.status.idle": "2024-09-19T19:01:17.825666Z",
     "shell.execute_reply": "2024-09-19T19:01:17.824532Z"
    },
    "papermill": {
     "duration": 0.032433,
     "end_time": "2024-09-19T19:01:17.827981",
     "exception": false,
     "start_time": "2024-09-19T19:01:17.795548",
     "status": "completed"
    },
    "tags": []
   },
   "outputs": [
    {
     "name": "stdout",
     "output_type": "stream",
     "text": [
      "Fare\n",
      "8.0500     43\n",
      "13.0000    42\n",
      "7.8958     38\n",
      "7.7500     34\n",
      "26.0000    31\n",
      "           ..\n",
      "35.0000     1\n",
      "28.5000     1\n",
      "6.2375      1\n",
      "14.0000     1\n",
      "10.5167     1\n",
      "Name: count, Length: 248, dtype: int64\n",
      "---------------------------------------------------------------\n",
      "Fare\n",
      "7.7500     21\n",
      "26.0000    19\n",
      "13.0000    17\n",
      "8.0500     17\n",
      "7.8958     11\n",
      "           ..\n",
      "7.8208      1\n",
      "8.5167      1\n",
      "78.8500     1\n",
      "52.0000     1\n",
      "22.3583     1\n",
      "Name: count, Length: 169, dtype: int64\n",
      "---------------------------------------------------------------\n"
     ]
    }
   ],
   "source": [
    "for data in train_test:\n",
    "    print(data['Fare'].value_counts())\n",
    "    print(\"---------------------------------------------------------------\")"
   ]
  },
  {
   "cell_type": "code",
   "execution_count": 34,
   "id": "f6910940",
   "metadata": {
    "execution": {
     "iopub.execute_input": "2024-09-19T19:01:17.869109Z",
     "iopub.status.busy": "2024-09-19T19:01:17.868115Z",
     "iopub.status.idle": "2024-09-19T19:01:18.304108Z",
     "shell.execute_reply": "2024-09-19T19:01:18.302964Z"
    },
    "papermill": {
     "duration": 0.458978,
     "end_time": "2024-09-19T19:01:18.306582",
     "exception": false,
     "start_time": "2024-09-19T19:01:17.847604",
     "status": "completed"
    },
    "tags": []
   },
   "outputs": [
    {
     "data": {
      "image/png": "[encoded data removed]",
      "text/plain": [
       "<Figure size 640x480 with 1 Axes>"
      ]
     },
     "metadata": {},
     "output_type": "display_data"
    },
    {
     "name": "stdout",
     "output_type": "stream",
     "text": [
      "Fare\n",
      "8.0500     43\n",
      "13.0000    42\n",
      "7.8958     38\n",
      "7.7500     34\n",
      "26.0000    31\n",
      "           ..\n",
      "35.0000     1\n",
      "28.5000     1\n",
      "6.2375      1\n",
      "14.0000     1\n",
      "10.5167     1\n",
      "Name: count, Length: 248, dtype: int64\n",
      "---------------------------------------------------------------\n"
     ]
    },
    {
     "data": {
      "image/png": "[encoded data removed]",
      "text/plain": [
       "<Figure size 640x480 with 1 Axes>"
      ]
     },
     "metadata": {},
     "output_type": "display_data"
    },
    {
     "name": "stdout",
     "output_type": "stream",
     "text": [
      "Fare\n",
      "7.7500     21\n",
      "26.0000    19\n",
      "13.0000    17\n",
      "8.0500     17\n",
      "7.8958     11\n",
      "           ..\n",
      "7.8208      1\n",
      "8.5167      1\n",
      "78.8500     1\n",
      "52.0000     1\n",
      "22.3583     1\n",
      "Name: count, Length: 169, dtype: int64\n",
      "---------------------------------------------------------------\n"
     ]
    }
   ],
   "source": [
    "#visualize Fare\n",
    "for data in train_test:\n",
    "    plt.hist(data['Fare'])\n",
    "    plt.show()\n",
    "    print(data['Fare'].value_counts())\n",
    "    print(\"---------------------------------------------------------------\")"
   ]
  },
  {
   "cell_type": "code",
   "execution_count": 35,
   "id": "e7a7a16c",
   "metadata": {
    "execution": {
     "iopub.execute_input": "2024-09-19T19:01:18.349110Z",
     "iopub.status.busy": "2024-09-19T19:01:18.347968Z",
     "iopub.status.idle": "2024-09-19T19:01:18.356982Z",
     "shell.execute_reply": "2024-09-19T19:01:18.356118Z"
    },
    "papermill": {
     "duration": 0.032326,
     "end_time": "2024-09-19T19:01:18.359118",
     "exception": false,
     "start_time": "2024-09-19T19:01:18.326792",
     "status": "completed"
    },
    "tags": []
   },
   "outputs": [],
   "source": [
    "#replace null values\n",
    "for data in train_test:\n",
    "    data['Fare'].fillna(train.groupby(\"Pclass\")[\"Fare\"].transform(\"median\"),inplace=True)"
   ]
  },
  {
   "cell_type": "code",
   "execution_count": 36,
   "id": "e6e21854",
   "metadata": {
    "execution": {
     "iopub.execute_input": "2024-09-19T19:01:18.401719Z",
     "iopub.status.busy": "2024-09-19T19:01:18.400786Z",
     "iopub.status.idle": "2024-09-19T19:01:18.419886Z",
     "shell.execute_reply": "2024-09-19T19:01:18.418861Z"
    },
    "papermill": {
     "duration": 0.042706,
     "end_time": "2024-09-19T19:01:18.421926",
     "exception": false,
     "start_time": "2024-09-19T19:01:18.379220",
     "status": "completed"
    },
    "tags": []
   },
   "outputs": [
    {
     "data": {
      "text/html": [
       "<div>\n",
       "<style scoped>\n",
       "    .dataframe tbody tr th:only-of-type {\n",
       "        vertical-align: middle;\n",
       "    }\n",
       "\n",
       "    .dataframe tbody tr th {\n",
       "        vertical-align: top;\n",
       "    }\n",
       "\n",
       "    .dataframe thead th {\n",
       "        text-align: right;\n",
       "    }\n",
       "</style>\n",
       "<table border=\"1\" class=\"dataframe\">\n",
       "  <thead>\n",
       "    <tr style=\"text-align: right;\">\n",
       "      <th></th>\n",
       "      <th>Survived</th>\n",
       "      <th>Pclass</th>\n",
       "      <th>Sex</th>\n",
       "      <th>Age</th>\n",
       "      <th>SibSp</th>\n",
       "      <th>Parch</th>\n",
       "      <th>Ticket</th>\n",
       "      <th>Fare</th>\n",
       "      <th>Cabin</th>\n",
       "      <th>Embarked</th>\n",
       "      <th>Title</th>\n",
       "    </tr>\n",
       "  </thead>\n",
       "  <tbody>\n",
       "    <tr>\n",
       "      <th>0</th>\n",
       "      <td>0</td>\n",
       "      <td>3</td>\n",
       "      <td>1</td>\n",
       "      <td>1.0</td>\n",
       "      <td>1</td>\n",
       "      <td>0</td>\n",
       "      <td>A/5 21171</td>\n",
       "      <td>7.2500</td>\n",
       "      <td>NaN</td>\n",
       "      <td>0</td>\n",
       "      <td>0</td>\n",
       "    </tr>\n",
       "    <tr>\n",
       "      <th>1</th>\n",
       "      <td>1</td>\n",
       "      <td>1</td>\n",
       "      <td>0</td>\n",
       "      <td>3.0</td>\n",
       "      <td>1</td>\n",
       "      <td>0</td>\n",
       "      <td>PC 17599</td>\n",
       "      <td>71.2833</td>\n",
       "      <td>C85</td>\n",
       "      <td>1</td>\n",
       "      <td>2</td>\n",
       "    </tr>\n",
       "    <tr>\n",
       "      <th>2</th>\n",
       "      <td>1</td>\n",
       "      <td>3</td>\n",
       "      <td>0</td>\n",
       "      <td>1.0</td>\n",
       "      <td>0</td>\n",
       "      <td>0</td>\n",
       "      <td>STON/O2. 3101282</td>\n",
       "      <td>7.9250</td>\n",
       "      <td>NaN</td>\n",
       "      <td>0</td>\n",
       "      <td>1</td>\n",
       "    </tr>\n",
       "    <tr>\n",
       "      <th>3</th>\n",
       "      <td>1</td>\n",
       "      <td>1</td>\n",
       "      <td>0</td>\n",
       "      <td>2.0</td>\n",
       "      <td>1</td>\n",
       "      <td>0</td>\n",
       "      <td>113803</td>\n",
       "      <td>53.1000</td>\n",
       "      <td>C123</td>\n",
       "      <td>0</td>\n",
       "      <td>2</td>\n",
       "    </tr>\n",
       "    <tr>\n",
       "      <th>4</th>\n",
       "      <td>0</td>\n",
       "      <td>3</td>\n",
       "      <td>1</td>\n",
       "      <td>2.0</td>\n",
       "      <td>0</td>\n",
       "      <td>0</td>\n",
       "      <td>373450</td>\n",
       "      <td>8.0500</td>\n",
       "      <td>NaN</td>\n",
       "      <td>0</td>\n",
       "      <td>0</td>\n",
       "    </tr>\n",
       "    <tr>\n",
       "      <th>5</th>\n",
       "      <td>0</td>\n",
       "      <td>3</td>\n",
       "      <td>1</td>\n",
       "      <td>2.0</td>\n",
       "      <td>0</td>\n",
       "      <td>0</td>\n",
       "      <td>330877</td>\n",
       "      <td>8.4583</td>\n",
       "      <td>NaN</td>\n",
       "      <td>2</td>\n",
       "      <td>0</td>\n",
       "    </tr>\n",
       "    <tr>\n",
       "      <th>6</th>\n",
       "      <td>0</td>\n",
       "      <td>1</td>\n",
       "      <td>1</td>\n",
       "      <td>3.0</td>\n",
       "      <td>0</td>\n",
       "      <td>0</td>\n",
       "      <td>17463</td>\n",
       "      <td>51.8625</td>\n",
       "      <td>E46</td>\n",
       "      <td>0</td>\n",
       "      <td>0</td>\n",
       "    </tr>\n",
       "    <tr>\n",
       "      <th>7</th>\n",
       "      <td>0</td>\n",
       "      <td>3</td>\n",
       "      <td>1</td>\n",
       "      <td>0.0</td>\n",
       "      <td>3</td>\n",
       "      <td>1</td>\n",
       "      <td>349909</td>\n",
       "      <td>21.0750</td>\n",
       "      <td>NaN</td>\n",
       "      <td>0</td>\n",
       "      <td>3</td>\n",
       "    </tr>\n",
       "    <tr>\n",
       "      <th>8</th>\n",
       "      <td>1</td>\n",
       "      <td>3</td>\n",
       "      <td>0</td>\n",
       "      <td>2.0</td>\n",
       "      <td>0</td>\n",
       "      <td>2</td>\n",
       "      <td>347742</td>\n",
       "      <td>11.1333</td>\n",
       "      <td>NaN</td>\n",
       "      <td>0</td>\n",
       "      <td>2</td>\n",
       "    </tr>\n",
       "    <tr>\n",
       "      <th>9</th>\n",
       "      <td>1</td>\n",
       "      <td>2</td>\n",
       "      <td>0</td>\n",
       "      <td>0.0</td>\n",
       "      <td>1</td>\n",
       "      <td>0</td>\n",
       "      <td>237736</td>\n",
       "      <td>30.0708</td>\n",
       "      <td>NaN</td>\n",
       "      <td>1</td>\n",
       "      <td>2</td>\n",
       "    </tr>\n",
       "    <tr>\n",
       "      <th>10</th>\n",
       "      <td>1</td>\n",
       "      <td>3</td>\n",
       "      <td>0</td>\n",
       "      <td>0.0</td>\n",
       "      <td>1</td>\n",
       "      <td>1</td>\n",
       "      <td>PP 9549</td>\n",
       "      <td>16.7000</td>\n",
       "      <td>G6</td>\n",
       "      <td>0</td>\n",
       "      <td>1</td>\n",
       "    </tr>\n",
       "    <tr>\n",
       "      <th>11</th>\n",
       "      <td>1</td>\n",
       "      <td>1</td>\n",
       "      <td>0</td>\n",
       "      <td>3.0</td>\n",
       "      <td>0</td>\n",
       "      <td>0</td>\n",
       "      <td>113783</td>\n",
       "      <td>26.5500</td>\n",
       "      <td>C103</td>\n",
       "      <td>0</td>\n",
       "      <td>1</td>\n",
       "    </tr>\n",
       "    <tr>\n",
       "      <th>12</th>\n",
       "      <td>0</td>\n",
       "      <td>3</td>\n",
       "      <td>1</td>\n",
       "      <td>1.0</td>\n",
       "      <td>0</td>\n",
       "      <td>0</td>\n",
       "      <td>A/5. 2151</td>\n",
       "      <td>8.0500</td>\n",
       "      <td>NaN</td>\n",
       "      <td>0</td>\n",
       "      <td>0</td>\n",
       "    </tr>\n",
       "    <tr>\n",
       "      <th>13</th>\n",
       "      <td>0</td>\n",
       "      <td>3</td>\n",
       "      <td>1</td>\n",
       "      <td>3.0</td>\n",
       "      <td>1</td>\n",
       "      <td>5</td>\n",
       "      <td>347082</td>\n",
       "      <td>31.2750</td>\n",
       "      <td>NaN</td>\n",
       "      <td>0</td>\n",
       "      <td>0</td>\n",
       "    </tr>\n",
       "    <tr>\n",
       "      <th>14</th>\n",
       "      <td>0</td>\n",
       "      <td>3</td>\n",
       "      <td>0</td>\n",
       "      <td>0.0</td>\n",
       "      <td>0</td>\n",
       "      <td>0</td>\n",
       "      <td>350406</td>\n",
       "      <td>7.8542</td>\n",
       "      <td>NaN</td>\n",
       "      <td>0</td>\n",
       "      <td>1</td>\n",
       "    </tr>\n",
       "    <tr>\n",
       "      <th>15</th>\n",
       "      <td>1</td>\n",
       "      <td>2</td>\n",
       "      <td>0</td>\n",
       "      <td>3.0</td>\n",
       "      <td>0</td>\n",
       "      <td>0</td>\n",
       "      <td>248706</td>\n",
       "      <td>16.0000</td>\n",
       "      <td>NaN</td>\n",
       "      <td>0</td>\n",
       "      <td>2</td>\n",
       "    </tr>\n",
       "    <tr>\n",
       "      <th>16</th>\n",
       "      <td>0</td>\n",
       "      <td>3</td>\n",
       "      <td>1</td>\n",
       "      <td>0.0</td>\n",
       "      <td>4</td>\n",
       "      <td>1</td>\n",
       "      <td>382652</td>\n",
       "      <td>29.1250</td>\n",
       "      <td>NaN</td>\n",
       "      <td>2</td>\n",
       "      <td>3</td>\n",
       "    </tr>\n",
       "    <tr>\n",
       "      <th>17</th>\n",
       "      <td>1</td>\n",
       "      <td>2</td>\n",
       "      <td>1</td>\n",
       "      <td>2.0</td>\n",
       "      <td>0</td>\n",
       "      <td>0</td>\n",
       "      <td>244373</td>\n",
       "      <td>13.0000</td>\n",
       "      <td>NaN</td>\n",
       "      <td>0</td>\n",
       "      <td>0</td>\n",
       "    </tr>\n",
       "    <tr>\n",
       "      <th>18</th>\n",
       "      <td>0</td>\n",
       "      <td>3</td>\n",
       "      <td>0</td>\n",
       "      <td>2.0</td>\n",
       "      <td>1</td>\n",
       "      <td>0</td>\n",
       "      <td>345763</td>\n",
       "      <td>18.0000</td>\n",
       "      <td>NaN</td>\n",
       "      <td>0</td>\n",
       "      <td>2</td>\n",
       "    </tr>\n",
       "    <tr>\n",
       "      <th>19</th>\n",
       "      <td>1</td>\n",
       "      <td>3</td>\n",
       "      <td>0</td>\n",
       "      <td>2.0</td>\n",
       "      <td>0</td>\n",
       "      <td>0</td>\n",
       "      <td>2649</td>\n",
       "      <td>7.2250</td>\n",
       "      <td>NaN</td>\n",
       "      <td>1</td>\n",
       "      <td>2</td>\n",
       "    </tr>\n",
       "  </tbody>\n",
       "</table>\n",
       "</div>"
      ],
      "text/plain": [
       "    Survived  Pclass  Sex  Age  SibSp  Parch            Ticket     Fare Cabin  \\\n",
       "0          0       3    1  1.0      1      0         A/5 21171   7.2500   NaN   \n",
       "1          1       1    0  3.0      1      0          PC 17599  71.2833   C85   \n",
       "2          1       3    0  1.0      0      0  STON/O2. 3101282   7.9250   NaN   \n",
       "3          1       1    0  2.0      1      0            113803  53.1000  C123   \n",
       "4          0       3    1  2.0      0      0            373450   8.0500   NaN   \n",
       "5          0       3    1  2.0      0      0            330877   8.4583   NaN   \n",
       "6          0       1    1  3.0      0      0             17463  51.8625   E46   \n",
       "7          0       3    1  0.0      3      1            349909  21.0750   NaN   \n",
       "8          1       3    0  2.0      0      2            347742  11.1333   NaN   \n",
       "9          1       2    0  0.0      1      0            237736  30.0708   NaN   \n",
       "10         1       3    0  0.0      1      1           PP 9549  16.7000    G6   \n",
       "11         1       1    0  3.0      0      0            113783  26.5500  C103   \n",
       "12         0       3    1  1.0      0      0         A/5. 2151   8.0500   NaN   \n",
       "13         0       3    1  3.0      1      5            347082  31.2750   NaN   \n",
       "14         0       3    0  0.0      0      0            350406   7.8542   NaN   \n",
       "15         1       2    0  3.0      0      0            248706  16.0000   NaN   \n",
       "16         0       3    1  0.0      4      1            382652  29.1250   NaN   \n",
       "17         1       2    1  2.0      0      0            244373  13.0000   NaN   \n",
       "18         0       3    0  2.0      1      0            345763  18.0000   NaN   \n",
       "19         1       3    0  2.0      0      0              2649   7.2250   NaN   \n",
       "\n",
       "    Embarked  Title  \n",
       "0          0      0  \n",
       "1          1      2  \n",
       "2          0      1  \n",
       "3          0      2  \n",
       "4          0      0  \n",
       "5          2      0  \n",
       "6          0      0  \n",
       "7          0      3  \n",
       "8          0      2  \n",
       "9          1      2  \n",
       "10         0      1  \n",
       "11         0      1  \n",
       "12         0      0  \n",
       "13         0      0  \n",
       "14         0      1  \n",
       "15         0      2  \n",
       "16         2      3  \n",
       "17         0      0  \n",
       "18         0      2  \n",
       "19         1      2  "
      ]
     },
     "execution_count": 36,
     "metadata": {},
     "output_type": "execute_result"
    }
   ],
   "source": [
    "train.head(20)"
   ]
  },
  {
   "cell_type": "code",
   "execution_count": 37,
   "id": "3b506251",
   "metadata": {
    "execution": {
     "iopub.execute_input": "2024-09-19T19:01:18.463955Z",
     "iopub.status.busy": "2024-09-19T19:01:18.463572Z",
     "iopub.status.idle": "2024-09-19T19:01:18.478802Z",
     "shell.execute_reply": "2024-09-19T19:01:18.477711Z"
    },
    "papermill": {
     "duration": 0.038991,
     "end_time": "2024-09-19T19:01:18.481229",
     "exception": false,
     "start_time": "2024-09-19T19:01:18.442238",
     "status": "completed"
    },
    "tags": []
   },
   "outputs": [],
   "source": [
    "#Outilers \n",
    "for data in train_test:\n",
    "    Q1 = data['Fare'].quantile(0.25)\n",
    "    Q3 = data['Fare'].quantile(0.75)\n",
    "    IQR = Q3 - Q1\n",
    "    lower_bound = Q1 - 1.5 * IQR\n",
    "    upper_bound = Q3 + 1.5 * IQR\n",
    "    data['Fare'] = data['Fare'].clip(lower=lower_bound,upper=upper_bound)    "
   ]
  },
  {
   "cell_type": "markdown",
   "id": "fd0e64d6",
   "metadata": {
    "papermill": {
     "duration": 0.020251,
     "end_time": "2024-09-19T19:01:18.523602",
     "exception": false,
     "start_time": "2024-09-19T19:01:18.503351",
     "status": "completed"
    },
    "tags": []
   },
   "source": [
    "### Cabin"
   ]
  },
  {
   "cell_type": "code",
   "execution_count": 38,
   "id": "2452ed11",
   "metadata": {
    "execution": {
     "iopub.execute_input": "2024-09-19T19:01:18.566451Z",
     "iopub.status.busy": "2024-09-19T19:01:18.565493Z",
     "iopub.status.idle": "2024-09-19T19:01:18.574630Z",
     "shell.execute_reply": "2024-09-19T19:01:18.573453Z"
    },
    "papermill": {
     "duration": 0.033576,
     "end_time": "2024-09-19T19:01:18.577587",
     "exception": false,
     "start_time": "2024-09-19T19:01:18.544011",
     "status": "completed"
    },
    "tags": []
   },
   "outputs": [
    {
     "name": "stdout",
     "output_type": "stream",
     "text": [
      "Cabin\n",
      "B96 B98        4\n",
      "G6             4\n",
      "C23 C25 C27    4\n",
      "C22 C26        3\n",
      "F33            3\n",
      "              ..\n",
      "E34            1\n",
      "C7             1\n",
      "C54            1\n",
      "E36            1\n",
      "C148           1\n",
      "Name: count, Length: 147, dtype: int64\n",
      "---------------------------------------------------------------\n",
      "Cabin\n",
      "B57 B59 B63 B66    3\n",
      "B45                2\n",
      "C89                2\n",
      "C55 C57            2\n",
      "A34                2\n",
      "                  ..\n",
      "E52                1\n",
      "D30                1\n",
      "E31                1\n",
      "C62 C64            1\n",
      "C105               1\n",
      "Name: count, Length: 76, dtype: int64\n",
      "---------------------------------------------------------------\n"
     ]
    }
   ],
   "source": [
    "for data in train_test:\n",
    "    print(data['Cabin'].value_counts())\n",
    "    print(\"---------------------------------------------------------------\")"
   ]
  },
  {
   "cell_type": "code",
   "execution_count": 39,
   "id": "423ccaa6",
   "metadata": {
    "execution": {
     "iopub.execute_input": "2024-09-19T19:01:18.621794Z",
     "iopub.status.busy": "2024-09-19T19:01:18.621389Z",
     "iopub.status.idle": "2024-09-19T19:01:18.868389Z",
     "shell.execute_reply": "2024-09-19T19:01:18.867293Z"
    },
    "papermill": {
     "duration": 0.27196,
     "end_time": "2024-09-19T19:01:18.870642",
     "exception": false,
     "start_time": "2024-09-19T19:01:18.598682",
     "status": "completed"
    },
    "tags": []
   },
   "outputs": [
    {
     "data": {
      "text/plain": [
       "<Axes: xlabel='Cabin'>"
      ]
     },
     "execution_count": 39,
     "metadata": {},
     "output_type": "execute_result"
    },
    {
     "data": {
      "image/png": "[encoded data removed]",
      "text/plain": [
       "<Figure size 800x500 with 1 Axes>"
      ]
     },
     "metadata": {},
     "output_type": "display_data"
    }
   ],
   "source": [
    "train['Cabin'].value_counts().head(10).plot(kind='bar',figsize=(8,5))"
   ]
  },
  {
   "cell_type": "code",
   "execution_count": 40,
   "id": "5cf0fe67",
   "metadata": {
    "execution": {
     "iopub.execute_input": "2024-09-19T19:01:18.914432Z",
     "iopub.status.busy": "2024-09-19T19:01:18.913897Z",
     "iopub.status.idle": "2024-09-19T19:01:18.924299Z",
     "shell.execute_reply": "2024-09-19T19:01:18.923317Z"
    },
    "papermill": {
     "duration": 0.034523,
     "end_time": "2024-09-19T19:01:18.926323",
     "exception": false,
     "start_time": "2024-09-19T19:01:18.891800",
     "status": "completed"
    },
    "tags": []
   },
   "outputs": [
    {
     "data": {
      "text/plain": [
       "Cabin\n",
       "B96 B98        4\n",
       "C23 C25 C27    4\n",
       "C22 C26        3\n",
       "E24            2\n",
       "E67            2\n",
       "              ..\n",
       "E34            1\n",
       "C7             1\n",
       "C54            1\n",
       "E36            1\n",
       "C148           1\n",
       "Name: count, Length: 133, dtype: int64"
      ]
     },
     "execution_count": 40,
     "metadata": {},
     "output_type": "execute_result"
    }
   ],
   "source": [
    "train[train['Pclass']==1]['Cabin'].value_counts()"
   ]
  },
  {
   "cell_type": "code",
   "execution_count": 41,
   "id": "ef9b0669",
   "metadata": {
    "execution": {
     "iopub.execute_input": "2024-09-19T19:01:18.970101Z",
     "iopub.status.busy": "2024-09-19T19:01:18.969685Z",
     "iopub.status.idle": "2024-09-19T19:01:18.976296Z",
     "shell.execute_reply": "2024-09-19T19:01:18.975223Z"
    },
    "papermill": {
     "duration": 0.031044,
     "end_time": "2024-09-19T19:01:18.978410",
     "exception": false,
     "start_time": "2024-09-19T19:01:18.947366",
     "status": "completed"
    },
    "tags": []
   },
   "outputs": [],
   "source": [
    "for dataset in train_test:\n",
    "    dataset['Cabin'] = dataset['Cabin'].str[:1]"
   ]
  },
  {
   "cell_type": "code",
   "execution_count": 42,
   "id": "169cbaa3",
   "metadata": {
    "execution": {
     "iopub.execute_input": "2024-09-19T19:01:19.026947Z",
     "iopub.status.busy": "2024-09-19T19:01:19.025599Z",
     "iopub.status.idle": "2024-09-19T19:01:19.393880Z",
     "shell.execute_reply": "2024-09-19T19:01:19.392345Z"
    },
    "papermill": {
     "duration": 0.396817,
     "end_time": "2024-09-19T19:01:19.396474",
     "exception": false,
     "start_time": "2024-09-19T19:01:18.999657",
     "status": "completed"
    },
    "tags": []
   },
   "outputs": [
    {
     "data": {
      "text/plain": [
       "<Axes: xlabel='Cabin'>"
      ]
     },
     "execution_count": 42,
     "metadata": {},
     "output_type": "execute_result"
    },
    {
     "data": {
      "image/png": "[encoded data removed]",
      "text/plain": [
       "<Figure size 800x500 with 1 Axes>"
      ]
     },
     "metadata": {},
     "output_type": "display_data"
    }
   ],
   "source": [
    "train['Cabin'].value_counts().plot(kind='bar',figsize=(8,5))"
   ]
  },
  {
   "cell_type": "code",
   "execution_count": 43,
   "id": "d77b3e9f",
   "metadata": {
    "execution": {
     "iopub.execute_input": "2024-09-19T19:01:19.446488Z",
     "iopub.status.busy": "2024-09-19T19:01:19.445970Z",
     "iopub.status.idle": "2024-09-19T19:01:19.454724Z",
     "shell.execute_reply": "2024-09-19T19:01:19.453532Z"
    },
    "papermill": {
     "duration": 0.035081,
     "end_time": "2024-09-19T19:01:19.456939",
     "exception": false,
     "start_time": "2024-09-19T19:01:19.421858",
     "status": "completed"
    },
    "tags": []
   },
   "outputs": [
    {
     "data": {
      "text/plain": [
       "687"
      ]
     },
     "execution_count": 43,
     "metadata": {},
     "output_type": "execute_result"
    }
   ],
   "source": [
    "train['Cabin'].isnull().sum()"
   ]
  },
  {
   "cell_type": "code",
   "execution_count": 44,
   "id": "0382994c",
   "metadata": {
    "execution": {
     "iopub.execute_input": "2024-09-19T19:01:19.505618Z",
     "iopub.status.busy": "2024-09-19T19:01:19.504758Z",
     "iopub.status.idle": "2024-09-19T19:01:19.512391Z",
     "shell.execute_reply": "2024-09-19T19:01:19.511283Z"
    },
    "papermill": {
     "duration": 0.032847,
     "end_time": "2024-09-19T19:01:19.514372",
     "exception": false,
     "start_time": "2024-09-19T19:01:19.481525",
     "status": "completed"
    },
    "tags": []
   },
   "outputs": [],
   "source": [
    "#Mapping\n",
    "for data in train_test:\n",
    "    data['Cabin'] = data['Cabin'].map( {\"A\": 0, \"B\": 0.4, \"C\": 0.8, \"D\": 1.2, \"E\": 1.6, \"F\": 2, \"G\": 2.4, \"T\": 2.8} )\n",
    "    data['Cabin'] = data['Cabin']"
   ]
  },
  {
   "cell_type": "code",
   "execution_count": 45,
   "id": "52921640",
   "metadata": {
    "execution": {
     "iopub.execute_input": "2024-09-19T19:01:19.559730Z",
     "iopub.status.busy": "2024-09-19T19:01:19.558832Z",
     "iopub.status.idle": "2024-09-19T19:01:19.567618Z",
     "shell.execute_reply": "2024-09-19T19:01:19.566547Z"
    },
    "papermill": {
     "duration": 0.033954,
     "end_time": "2024-09-19T19:01:19.569858",
     "exception": false,
     "start_time": "2024-09-19T19:01:19.535904",
     "status": "completed"
    },
    "tags": []
   },
   "outputs": [],
   "source": [
    "#replace Null Values\n",
    "for data in train_test:\n",
    "    data['Cabin'].fillna(train.groupby(\"Pclass\")['Cabin'].transform(\"median\"),inplace=True)"
   ]
  },
  {
   "cell_type": "markdown",
   "id": "fa962aed",
   "metadata": {
    "papermill": {
     "duration": 0.021274,
     "end_time": "2024-09-19T19:01:19.612839",
     "exception": false,
     "start_time": "2024-09-19T19:01:19.591565",
     "status": "completed"
    },
    "tags": []
   },
   "source": [
    "###  FamilySize (Feature Extraction)"
   ]
  },
  {
   "cell_type": "code",
   "execution_count": 46,
   "id": "17fd4cfb",
   "metadata": {
    "execution": {
     "iopub.execute_input": "2024-09-19T19:01:19.657669Z",
     "iopub.status.busy": "2024-09-19T19:01:19.656983Z",
     "iopub.status.idle": "2024-09-19T19:01:19.663840Z",
     "shell.execute_reply": "2024-09-19T19:01:19.662864Z"
    },
    "papermill": {
     "duration": 0.031646,
     "end_time": "2024-09-19T19:01:19.665855",
     "exception": false,
     "start_time": "2024-09-19T19:01:19.634209",
     "status": "completed"
    },
    "tags": []
   },
   "outputs": [],
   "source": [
    "for data in train_test:\n",
    "    data['FamilySize'] = data['SibSp'] + data['Parch'] + 1"
   ]
  },
  {
   "cell_type": "code",
   "execution_count": 47,
   "id": "c1aa9b56",
   "metadata": {
    "execution": {
     "iopub.execute_input": "2024-09-19T19:01:19.710949Z",
     "iopub.status.busy": "2024-09-19T19:01:19.710278Z",
     "iopub.status.idle": "2024-09-19T19:01:19.717543Z",
     "shell.execute_reply": "2024-09-19T19:01:19.716423Z"
    },
    "papermill": {
     "duration": 0.032346,
     "end_time": "2024-09-19T19:01:19.719778",
     "exception": false,
     "start_time": "2024-09-19T19:01:19.687432",
     "status": "completed"
    },
    "tags": []
   },
   "outputs": [],
   "source": [
    "family_mapping = {1: 0, 2: 0.4, 3: 0.8, 4: 1.2, 5: 1.6, 6: 2, 7: 2.4, 8: 2.8, 9: 3.2, 10: 3.6, 11: 4}\n",
    "for dataset in train_test:\n",
    "    dataset['FamilySize'] = dataset['FamilySize'].map(family_mapping)"
   ]
  },
  {
   "cell_type": "markdown",
   "id": "babeb93c",
   "metadata": {
    "papermill": {
     "duration": 0.021204,
     "end_time": "2024-09-19T19:01:19.762687",
     "exception": false,
     "start_time": "2024-09-19T19:01:19.741483",
     "status": "completed"
    },
    "tags": []
   },
   "source": [
    "### Ticket , SibSp , Parch"
   ]
  },
  {
   "cell_type": "code",
   "execution_count": 48,
   "id": "c0503bdc",
   "metadata": {
    "execution": {
     "iopub.execute_input": "2024-09-19T19:01:19.814539Z",
     "iopub.status.busy": "2024-09-19T19:01:19.813099Z",
     "iopub.status.idle": "2024-09-19T19:01:19.821579Z",
     "shell.execute_reply": "2024-09-19T19:01:19.820585Z"
    },
    "papermill": {
     "duration": 0.038016,
     "end_time": "2024-09-19T19:01:19.823776",
     "exception": false,
     "start_time": "2024-09-19T19:01:19.785760",
     "status": "completed"
    },
    "tags": []
   },
   "outputs": [],
   "source": [
    "train = train.drop(['Ticket', 'SibSp', 'Parch'], axis=1)\n",
    "test = test.drop(['Ticket', 'SibSp', 'Parch'], axis=1)"
   ]
  },
  {
   "cell_type": "code",
   "execution_count": 49,
   "id": "8a192c72",
   "metadata": {
    "execution": {
     "iopub.execute_input": "2024-09-19T19:01:19.871759Z",
     "iopub.status.busy": "2024-09-19T19:01:19.870833Z",
     "iopub.status.idle": "2024-09-19T19:01:19.884624Z",
     "shell.execute_reply": "2024-09-19T19:01:19.883583Z"
    },
    "papermill": {
     "duration": 0.040864,
     "end_time": "2024-09-19T19:01:19.886803",
     "exception": false,
     "start_time": "2024-09-19T19:01:19.845939",
     "status": "completed"
    },
    "tags": []
   },
   "outputs": [
    {
     "data": {
      "text/html": [
       "<div>\n",
       "<style scoped>\n",
       "    .dataframe tbody tr th:only-of-type {\n",
       "        vertical-align: middle;\n",
       "    }\n",
       "\n",
       "    .dataframe tbody tr th {\n",
       "        vertical-align: top;\n",
       "    }\n",
       "\n",
       "    .dataframe thead th {\n",
       "        text-align: right;\n",
       "    }\n",
       "</style>\n",
       "<table border=\"1\" class=\"dataframe\">\n",
       "  <thead>\n",
       "    <tr style=\"text-align: right;\">\n",
       "      <th></th>\n",
       "      <th>Survived</th>\n",
       "      <th>Pclass</th>\n",
       "      <th>Sex</th>\n",
       "      <th>Age</th>\n",
       "      <th>Fare</th>\n",
       "      <th>Cabin</th>\n",
       "      <th>Embarked</th>\n",
       "      <th>Title</th>\n",
       "      <th>FamilySize</th>\n",
       "    </tr>\n",
       "  </thead>\n",
       "  <tbody>\n",
       "    <tr>\n",
       "      <th>0</th>\n",
       "      <td>0</td>\n",
       "      <td>3</td>\n",
       "      <td>1</td>\n",
       "      <td>1.0</td>\n",
       "      <td>7.2500</td>\n",
       "      <td>2.0</td>\n",
       "      <td>0</td>\n",
       "      <td>0</td>\n",
       "      <td>0.4</td>\n",
       "    </tr>\n",
       "    <tr>\n",
       "      <th>1</th>\n",
       "      <td>1</td>\n",
       "      <td>1</td>\n",
       "      <td>0</td>\n",
       "      <td>3.0</td>\n",
       "      <td>65.6344</td>\n",
       "      <td>0.8</td>\n",
       "      <td>1</td>\n",
       "      <td>2</td>\n",
       "      <td>0.4</td>\n",
       "    </tr>\n",
       "    <tr>\n",
       "      <th>2</th>\n",
       "      <td>1</td>\n",
       "      <td>3</td>\n",
       "      <td>0</td>\n",
       "      <td>1.0</td>\n",
       "      <td>7.9250</td>\n",
       "      <td>2.0</td>\n",
       "      <td>0</td>\n",
       "      <td>1</td>\n",
       "      <td>0.0</td>\n",
       "    </tr>\n",
       "  </tbody>\n",
       "</table>\n",
       "</div>"
      ],
      "text/plain": [
       "   Survived  Pclass  Sex  Age     Fare  Cabin  Embarked  Title  FamilySize\n",
       "0         0       3    1  1.0   7.2500    2.0         0      0         0.4\n",
       "1         1       1    0  3.0  65.6344    0.8         1      2         0.4\n",
       "2         1       3    0  1.0   7.9250    2.0         0      1         0.0"
      ]
     },
     "execution_count": 49,
     "metadata": {},
     "output_type": "execute_result"
    }
   ],
   "source": [
    "train.head(3)"
   ]
  },
  {
   "cell_type": "code",
   "execution_count": 50,
   "id": "a8d97f6a",
   "metadata": {
    "execution": {
     "iopub.execute_input": "2024-09-19T19:01:19.932509Z",
     "iopub.status.busy": "2024-09-19T19:01:19.931793Z",
     "iopub.status.idle": "2024-09-19T19:01:19.963893Z",
     "shell.execute_reply": "2024-09-19T19:01:19.962743Z"
    },
    "papermill": {
     "duration": 0.05761,
     "end_time": "2024-09-19T19:01:19.966284",
     "exception": false,
     "start_time": "2024-09-19T19:01:19.908674",
     "status": "completed"
    },
    "tags": []
   },
   "outputs": [
    {
     "data": {
      "text/html": [
       "<div>\n",
       "<style scoped>\n",
       "    .dataframe tbody tr th:only-of-type {\n",
       "        vertical-align: middle;\n",
       "    }\n",
       "\n",
       "    .dataframe tbody tr th {\n",
       "        vertical-align: top;\n",
       "    }\n",
       "\n",
       "    .dataframe thead th {\n",
       "        text-align: right;\n",
       "    }\n",
       "</style>\n",
       "<table border=\"1\" class=\"dataframe\">\n",
       "  <thead>\n",
       "    <tr style=\"text-align: right;\">\n",
       "      <th></th>\n",
       "      <th>Survived</th>\n",
       "      <th>Pclass</th>\n",
       "      <th>Sex</th>\n",
       "      <th>Age</th>\n",
       "      <th>Fare</th>\n",
       "      <th>Cabin</th>\n",
       "      <th>Embarked</th>\n",
       "      <th>Title</th>\n",
       "      <th>FamilySize</th>\n",
       "    </tr>\n",
       "  </thead>\n",
       "  <tbody>\n",
       "    <tr>\n",
       "      <th>count</th>\n",
       "      <td>891.000000</td>\n",
       "      <td>891.000000</td>\n",
       "      <td>891.000000</td>\n",
       "      <td>891.000000</td>\n",
       "      <td>891.000000</td>\n",
       "      <td>891.000000</td>\n",
       "      <td>891.000000</td>\n",
       "      <td>891.000000</td>\n",
       "      <td>891.000000</td>\n",
       "    </tr>\n",
       "    <tr>\n",
       "      <th>mean</th>\n",
       "      <td>0.383838</td>\n",
       "      <td>2.308642</td>\n",
       "      <td>0.647587</td>\n",
       "      <td>1.713805</td>\n",
       "      <td>24.046813</td>\n",
       "      <td>1.669585</td>\n",
       "      <td>0.361392</td>\n",
       "      <td>0.710438</td>\n",
       "      <td>0.361841</td>\n",
       "    </tr>\n",
       "    <tr>\n",
       "      <th>std</th>\n",
       "      <td>0.486592</td>\n",
       "      <td>0.836071</td>\n",
       "      <td>0.477990</td>\n",
       "      <td>0.972672</td>\n",
       "      <td>20.481625</td>\n",
       "      <td>0.540335</td>\n",
       "      <td>0.635673</td>\n",
       "      <td>0.968778</td>\n",
       "      <td>0.645383</td>\n",
       "    </tr>\n",
       "    <tr>\n",
       "      <th>min</th>\n",
       "      <td>0.000000</td>\n",
       "      <td>1.000000</td>\n",
       "      <td>0.000000</td>\n",
       "      <td>0.000000</td>\n",
       "      <td>0.000000</td>\n",
       "      <td>0.000000</td>\n",
       "      <td>0.000000</td>\n",
       "      <td>0.000000</td>\n",
       "      <td>0.000000</td>\n",
       "    </tr>\n",
       "    <tr>\n",
       "      <th>25%</th>\n",
       "      <td>0.000000</td>\n",
       "      <td>2.000000</td>\n",
       "      <td>0.000000</td>\n",
       "      <td>1.000000</td>\n",
       "      <td>7.910400</td>\n",
       "      <td>1.600000</td>\n",
       "      <td>0.000000</td>\n",
       "      <td>0.000000</td>\n",
       "      <td>0.000000</td>\n",
       "    </tr>\n",
       "    <tr>\n",
       "      <th>50%</th>\n",
       "      <td>0.000000</td>\n",
       "      <td>3.000000</td>\n",
       "      <td>1.000000</td>\n",
       "      <td>2.000000</td>\n",
       "      <td>14.454200</td>\n",
       "      <td>2.000000</td>\n",
       "      <td>0.000000</td>\n",
       "      <td>0.000000</td>\n",
       "      <td>0.000000</td>\n",
       "    </tr>\n",
       "    <tr>\n",
       "      <th>75%</th>\n",
       "      <td>1.000000</td>\n",
       "      <td>3.000000</td>\n",
       "      <td>1.000000</td>\n",
       "      <td>2.000000</td>\n",
       "      <td>31.000000</td>\n",
       "      <td>2.000000</td>\n",
       "      <td>1.000000</td>\n",
       "      <td>1.000000</td>\n",
       "      <td>0.400000</td>\n",
       "    </tr>\n",
       "    <tr>\n",
       "      <th>max</th>\n",
       "      <td>1.000000</td>\n",
       "      <td>3.000000</td>\n",
       "      <td>1.000000</td>\n",
       "      <td>4.000000</td>\n",
       "      <td>65.634400</td>\n",
       "      <td>2.800000</td>\n",
       "      <td>2.000000</td>\n",
       "      <td>3.000000</td>\n",
       "      <td>4.000000</td>\n",
       "    </tr>\n",
       "  </tbody>\n",
       "</table>\n",
       "</div>"
      ],
      "text/plain": [
       "         Survived      Pclass         Sex         Age        Fare       Cabin  \\\n",
       "count  891.000000  891.000000  891.000000  891.000000  891.000000  891.000000   \n",
       "mean     0.383838    2.308642    0.647587    1.713805   24.046813    1.669585   \n",
       "std      0.486592    0.836071    0.477990    0.972672   20.481625    0.540335   \n",
       "min      0.000000    1.000000    0.000000    0.000000    0.000000    0.000000   \n",
       "25%      0.000000    2.000000    0.000000    1.000000    7.910400    1.600000   \n",
       "50%      0.000000    3.000000    1.000000    2.000000   14.454200    2.000000   \n",
       "75%      1.000000    3.000000    1.000000    2.000000   31.000000    2.000000   \n",
       "max      1.000000    3.000000    1.000000    4.000000   65.634400    2.800000   \n",
       "\n",
       "         Embarked       Title  FamilySize  \n",
       "count  891.000000  891.000000  891.000000  \n",
       "mean     0.361392    0.710438    0.361841  \n",
       "std      0.635673    0.968778    0.645383  \n",
       "min      0.000000    0.000000    0.000000  \n",
       "25%      0.000000    0.000000    0.000000  \n",
       "50%      0.000000    0.000000    0.000000  \n",
       "75%      1.000000    1.000000    0.400000  \n",
       "max      2.000000    3.000000    4.000000  "
      ]
     },
     "execution_count": 50,
     "metadata": {},
     "output_type": "execute_result"
    }
   ],
   "source": [
    "train.describe()"
   ]
  },
  {
   "cell_type": "code",
   "execution_count": 51,
   "id": "529a543c",
   "metadata": {
    "execution": {
     "iopub.execute_input": "2024-09-19T19:01:20.012424Z",
     "iopub.status.busy": "2024-09-19T19:01:20.011995Z",
     "iopub.status.idle": "2024-09-19T19:01:20.030367Z",
     "shell.execute_reply": "2024-09-19T19:01:20.029205Z"
    },
    "papermill": {
     "duration": 0.044305,
     "end_time": "2024-09-19T19:01:20.032830",
     "exception": false,
     "start_time": "2024-09-19T19:01:19.988525",
     "status": "completed"
    },
    "tags": []
   },
   "outputs": [
    {
     "data": {
      "text/html": [
       "<div>\n",
       "<style scoped>\n",
       "    .dataframe tbody tr th:only-of-type {\n",
       "        vertical-align: middle;\n",
       "    }\n",
       "\n",
       "    .dataframe tbody tr th {\n",
       "        vertical-align: top;\n",
       "    }\n",
       "\n",
       "    .dataframe thead th {\n",
       "        text-align: right;\n",
       "    }\n",
       "</style>\n",
       "<table border=\"1\" class=\"dataframe\">\n",
       "  <thead>\n",
       "    <tr style=\"text-align: right;\">\n",
       "      <th></th>\n",
       "      <th>Survived</th>\n",
       "      <th>Pclass</th>\n",
       "      <th>Sex</th>\n",
       "      <th>Age</th>\n",
       "      <th>Fare</th>\n",
       "      <th>Cabin</th>\n",
       "      <th>Embarked</th>\n",
       "      <th>Title</th>\n",
       "      <th>FamilySize</th>\n",
       "    </tr>\n",
       "  </thead>\n",
       "  <tbody>\n",
       "    <tr>\n",
       "      <th>0</th>\n",
       "      <td>0</td>\n",
       "      <td>3</td>\n",
       "      <td>1</td>\n",
       "      <td>1.0</td>\n",
       "      <td>7.2500</td>\n",
       "      <td>2.0</td>\n",
       "      <td>0</td>\n",
       "      <td>0</td>\n",
       "      <td>0.4</td>\n",
       "    </tr>\n",
       "    <tr>\n",
       "      <th>1</th>\n",
       "      <td>1</td>\n",
       "      <td>1</td>\n",
       "      <td>0</td>\n",
       "      <td>3.0</td>\n",
       "      <td>65.6344</td>\n",
       "      <td>0.8</td>\n",
       "      <td>1</td>\n",
       "      <td>2</td>\n",
       "      <td>0.4</td>\n",
       "    </tr>\n",
       "    <tr>\n",
       "      <th>2</th>\n",
       "      <td>1</td>\n",
       "      <td>3</td>\n",
       "      <td>0</td>\n",
       "      <td>1.0</td>\n",
       "      <td>7.9250</td>\n",
       "      <td>2.0</td>\n",
       "      <td>0</td>\n",
       "      <td>1</td>\n",
       "      <td>0.0</td>\n",
       "    </tr>\n",
       "    <tr>\n",
       "      <th>3</th>\n",
       "      <td>1</td>\n",
       "      <td>1</td>\n",
       "      <td>0</td>\n",
       "      <td>2.0</td>\n",
       "      <td>53.1000</td>\n",
       "      <td>0.8</td>\n",
       "      <td>0</td>\n",
       "      <td>2</td>\n",
       "      <td>0.4</td>\n",
       "    </tr>\n",
       "    <tr>\n",
       "      <th>4</th>\n",
       "      <td>0</td>\n",
       "      <td>3</td>\n",
       "      <td>1</td>\n",
       "      <td>2.0</td>\n",
       "      <td>8.0500</td>\n",
       "      <td>2.0</td>\n",
       "      <td>0</td>\n",
       "      <td>0</td>\n",
       "      <td>0.0</td>\n",
       "    </tr>\n",
       "    <tr>\n",
       "      <th>...</th>\n",
       "      <td>...</td>\n",
       "      <td>...</td>\n",
       "      <td>...</td>\n",
       "      <td>...</td>\n",
       "      <td>...</td>\n",
       "      <td>...</td>\n",
       "      <td>...</td>\n",
       "      <td>...</td>\n",
       "      <td>...</td>\n",
       "    </tr>\n",
       "    <tr>\n",
       "      <th>886</th>\n",
       "      <td>0</td>\n",
       "      <td>2</td>\n",
       "      <td>1</td>\n",
       "      <td>2.0</td>\n",
       "      <td>13.0000</td>\n",
       "      <td>1.8</td>\n",
       "      <td>0</td>\n",
       "      <td>3</td>\n",
       "      <td>0.0</td>\n",
       "    </tr>\n",
       "    <tr>\n",
       "      <th>887</th>\n",
       "      <td>1</td>\n",
       "      <td>1</td>\n",
       "      <td>0</td>\n",
       "      <td>1.0</td>\n",
       "      <td>30.0000</td>\n",
       "      <td>0.4</td>\n",
       "      <td>0</td>\n",
       "      <td>1</td>\n",
       "      <td>0.0</td>\n",
       "    </tr>\n",
       "    <tr>\n",
       "      <th>888</th>\n",
       "      <td>0</td>\n",
       "      <td>3</td>\n",
       "      <td>0</td>\n",
       "      <td>1.0</td>\n",
       "      <td>23.4500</td>\n",
       "      <td>2.0</td>\n",
       "      <td>0</td>\n",
       "      <td>1</td>\n",
       "      <td>1.2</td>\n",
       "    </tr>\n",
       "    <tr>\n",
       "      <th>889</th>\n",
       "      <td>1</td>\n",
       "      <td>1</td>\n",
       "      <td>1</td>\n",
       "      <td>1.0</td>\n",
       "      <td>30.0000</td>\n",
       "      <td>0.8</td>\n",
       "      <td>1</td>\n",
       "      <td>0</td>\n",
       "      <td>0.0</td>\n",
       "    </tr>\n",
       "    <tr>\n",
       "      <th>890</th>\n",
       "      <td>0</td>\n",
       "      <td>3</td>\n",
       "      <td>1</td>\n",
       "      <td>2.0</td>\n",
       "      <td>7.7500</td>\n",
       "      <td>2.0</td>\n",
       "      <td>2</td>\n",
       "      <td>0</td>\n",
       "      <td>0.0</td>\n",
       "    </tr>\n",
       "  </tbody>\n",
       "</table>\n",
       "<p>891 rows × 9 columns</p>\n",
       "</div>"
      ],
      "text/plain": [
       "     Survived  Pclass  Sex  Age     Fare  Cabin  Embarked  Title  FamilySize\n",
       "0           0       3    1  1.0   7.2500    2.0         0      0         0.4\n",
       "1           1       1    0  3.0  65.6344    0.8         1      2         0.4\n",
       "2           1       3    0  1.0   7.9250    2.0         0      1         0.0\n",
       "3           1       1    0  2.0  53.1000    0.8         0      2         0.4\n",
       "4           0       3    1  2.0   8.0500    2.0         0      0         0.0\n",
       "..        ...     ...  ...  ...      ...    ...       ...    ...         ...\n",
       "886         0       2    1  2.0  13.0000    1.8         0      3         0.0\n",
       "887         1       1    0  1.0  30.0000    0.4         0      1         0.0\n",
       "888         0       3    0  1.0  23.4500    2.0         0      1         1.2\n",
       "889         1       1    1  1.0  30.0000    0.8         1      0         0.0\n",
       "890         0       3    1  2.0   7.7500    2.0         2      0         0.0\n",
       "\n",
       "[891 rows x 9 columns]"
      ]
     },
     "execution_count": 51,
     "metadata": {},
     "output_type": "execute_result"
    }
   ],
   "source": [
    "train"
   ]
  },
  {
   "cell_type": "markdown",
   "id": "f02f1adc",
   "metadata": {
    "papermill": {
     "duration": 0.023927,
     "end_time": "2024-09-19T19:01:20.079888",
     "exception": false,
     "start_time": "2024-09-19T19:01:20.055961",
     "status": "completed"
    },
    "tags": []
   },
   "source": [
    "## Model Evaluation"
   ]
  },
  {
   "cell_type": "markdown",
   "id": "835a7a30",
   "metadata": {
    "papermill": {
     "duration": 0.022201,
     "end_time": "2024-09-19T19:01:20.124904",
     "exception": false,
     "start_time": "2024-09-19T19:01:20.102703",
     "status": "completed"
    },
    "tags": []
   },
   "source": [
    "### Split Data"
   ]
  },
  {
   "cell_type": "code",
   "execution_count": 52,
   "id": "56a1a474",
   "metadata": {
    "execution": {
     "iopub.execute_input": "2024-09-19T19:01:20.172044Z",
     "iopub.status.busy": "2024-09-19T19:01:20.171653Z",
     "iopub.status.idle": "2024-09-19T19:01:20.273694Z",
     "shell.execute_reply": "2024-09-19T19:01:20.272797Z"
    },
    "papermill": {
     "duration": 0.128624,
     "end_time": "2024-09-19T19:01:20.276155",
     "exception": false,
     "start_time": "2024-09-19T19:01:20.147531",
     "status": "completed"
    },
    "tags": []
   },
   "outputs": [],
   "source": [
    "#splitting\n",
    "\n",
    "from sklearn.model_selection import train_test_split\n",
    "X_train, X_test, y_train, y_test = train_test_split(train.drop('Survived',axis=1), \n",
    "                                                    train['Survived'], test_size=0.30, \n",
    "                                                    random_state=101)"
   ]
  },
  {
   "cell_type": "markdown",
   "id": "92ba64c4",
   "metadata": {
    "papermill": {
     "duration": 0.022632,
     "end_time": "2024-09-19T19:01:20.321746",
     "exception": false,
     "start_time": "2024-09-19T19:01:20.299114",
     "status": "completed"
    },
    "tags": []
   },
   "source": [
    "### Select Best Models"
   ]
  },
  {
   "cell_type": "code",
   "execution_count": 53,
   "id": "eb0dd3bb",
   "metadata": {
    "execution": {
     "iopub.execute_input": "2024-09-19T19:01:20.369797Z",
     "iopub.status.busy": "2024-09-19T19:01:20.369346Z",
     "iopub.status.idle": "2024-09-19T19:01:43.159800Z",
     "shell.execute_reply": "2024-09-19T19:01:43.158759Z"
    },
    "papermill": {
     "duration": 22.818436,
     "end_time": "2024-09-19T19:01:43.163328",
     "exception": false,
     "start_time": "2024-09-19T19:01:20.344892",
     "status": "completed"
    },
    "tags": []
   },
   "outputs": [
    {
     "name": "stdout",
     "output_type": "stream",
     "text": [
      "Logistic Regression: Best Parameters - {'C': 1}, Best Score - 0.8267096774193549\n",
      "KNN: Best Parameters - {'n_neighbors': 3}, Best Score - 0.7945935483870967\n",
      "Naive Bayes: Best Parameters - {}, Best Score - 0.7768903225806452\n",
      "SVM: Best Parameters - {'C': 0.1, 'kernel': 'linear'}, Best Score - 0.8106451612903225\n",
      "Decision Tree: Best Parameters - {'max_depth': 5}, Best Score - 0.8170193548387097\n",
      "Random Forest: Best Parameters - {'n_estimators': 50}, Best Score - 0.8025806451612902\n",
      "Extra Trees: Best Parameters - {'n_estimators': 200}, Best Score - 0.7881677419354839\n",
      "Bagging: Best Parameters - {'n_estimators': 20}, Best Score - 0.7961806451612904\n",
      "AdaBoost: Best Parameters - {'n_estimators': 50}, Best Score - 0.8282967741935483\n",
      "Gradient Boosting: Best Parameters - {'n_estimators': 100}, Best Score - 0.8442838709677419\n",
      "XGBoost: Best Parameters - {'learning_rate': 0.01, 'n_estimators': 100}, Best Score - 0.8331225806451613\n",
      "--- Logistic Regression ---\n",
      "Accuracy: 0.7873134328358209\n",
      "Classification Report:\n",
      "              precision    recall  f1-score   support\n",
      "\n",
      "           0     0.7803    0.8766    0.8257       154\n",
      "           1     0.8000    0.6667    0.7273       114\n",
      "\n",
      "    accuracy                         0.7873       268\n",
      "   macro avg     0.7902    0.7716    0.7765       268\n",
      "weighted avg     0.7887    0.7873    0.7838       268\n",
      "\n",
      "--- KNN ---\n",
      "Accuracy: 0.7425373134328358\n",
      "Classification Report:\n",
      "              precision    recall  f1-score   support\n",
      "\n",
      "           0     0.7485    0.8312    0.7877       154\n",
      "           1     0.7320    0.6228    0.6730       114\n",
      "\n",
      "    accuracy                         0.7425       268\n",
      "   macro avg     0.7402    0.7270    0.7303       268\n",
      "weighted avg     0.7415    0.7425    0.7389       268\n",
      "\n",
      "--- Naive Bayes ---\n",
      "Accuracy: 0.7798507462686567\n",
      "Classification Report:\n",
      "              precision    recall  f1-score   support\n",
      "\n",
      "           0     0.8231    0.7857    0.8040       154\n",
      "           1     0.7273    0.7719    0.7489       114\n",
      "\n",
      "    accuracy                         0.7799       268\n",
      "   macro avg     0.7752    0.7788    0.7765       268\n",
      "weighted avg     0.7824    0.7799    0.7806       268\n",
      "\n",
      "--- SVM ---\n",
      "Accuracy: 0.7910447761194029\n",
      "Classification Report:\n",
      "              precision    recall  f1-score   support\n",
      "\n",
      "           0     0.7917    0.8636    0.8261       154\n",
      "           1     0.7900    0.6930    0.7383       114\n",
      "\n",
      "    accuracy                         0.7910       268\n",
      "   macro avg     0.7908    0.7783    0.7822       268\n",
      "weighted avg     0.7910    0.7910    0.7888       268\n",
      "\n",
      "--- Decision Tree ---\n",
      "Accuracy: 0.8097014925373134\n",
      "Classification Report:\n",
      "              precision    recall  f1-score   support\n",
      "\n",
      "           0     0.7943    0.9026    0.8450       154\n",
      "           1     0.8387    0.6842    0.7536       114\n",
      "\n",
      "    accuracy                         0.8097       268\n",
      "   macro avg     0.8165    0.7934    0.7993       268\n",
      "weighted avg     0.8132    0.8097    0.8061       268\n",
      "\n",
      "--- Random Forest ---\n",
      "Accuracy: 0.7798507462686567\n",
      "Classification Report:\n",
      "              precision    recall  f1-score   support\n",
      "\n",
      "           0     0.7746    0.8701    0.8196       154\n",
      "           1     0.7895    0.6579    0.7177       114\n",
      "\n",
      "    accuracy                         0.7799       268\n",
      "   macro avg     0.7820    0.7640    0.7686       268\n",
      "weighted avg     0.7809    0.7799    0.7762       268\n",
      "\n",
      "--- Extra Trees ---\n",
      "Accuracy: 0.7761194029850746\n",
      "Classification Report:\n",
      "              precision    recall  f1-score   support\n",
      "\n",
      "           0     0.7765    0.8571    0.8148       154\n",
      "           1     0.7755    0.6667    0.7170       114\n",
      "\n",
      "    accuracy                         0.7761       268\n",
      "   macro avg     0.7760    0.7619    0.7659       268\n",
      "weighted avg     0.7761    0.7761    0.7732       268\n",
      "\n",
      "--- Bagging ---\n",
      "Accuracy: 0.7723880597014925\n",
      "Classification Report:\n",
      "              precision    recall  f1-score   support\n",
      "\n",
      "           0     0.7657    0.8701    0.8146       154\n",
      "           1     0.7849    0.6404    0.7053       114\n",
      "\n",
      "    accuracy                         0.7724       268\n",
      "   macro avg     0.7753    0.7552    0.7600       268\n",
      "weighted avg     0.7739    0.7724    0.7681       268\n",
      "\n",
      "--- AdaBoost ---\n",
      "Accuracy: 0.7985074626865671\n",
      "Classification Report:\n",
      "              precision    recall  f1-score   support\n",
      "\n",
      "           0     0.7907    0.8831    0.8344       154\n",
      "           1     0.8125    0.6842    0.7429       114\n",
      "\n",
      "    accuracy                         0.7985       268\n",
      "   macro avg     0.8016    0.7837    0.7886       268\n",
      "weighted avg     0.8000    0.7985    0.7954       268\n",
      "\n",
      "--- Gradient Boosting ---\n",
      "Accuracy: 0.7985074626865671\n",
      "Classification Report:\n",
      "              precision    recall  f1-score   support\n",
      "\n",
      "           0     0.7778    0.9091    0.8383       154\n",
      "           1     0.8409    0.6491    0.7327       114\n",
      "\n",
      "    accuracy                         0.7985       268\n",
      "   macro avg     0.8093    0.7791    0.7855       268\n",
      "weighted avg     0.8046    0.7985    0.7934       268\n",
      "\n",
      "--- XGBoost ---\n",
      "Accuracy: 0.8097014925373134\n",
      "Classification Report:\n",
      "              precision    recall  f1-score   support\n",
      "\n",
      "           0     0.7696    0.9545    0.8522       154\n",
      "           1     0.9091    0.6140    0.7330       114\n",
      "\n",
      "    accuracy                         0.8097       268\n",
      "   macro avg     0.8394    0.7843    0.7926       268\n",
      "weighted avg     0.8290    0.8097    0.8015       268\n",
      "\n",
      "--- Voting ---\n",
      "Accuracy: 0.8134328358208955\n",
      "Classification Report:\n",
      "              precision    recall  f1-score   support\n",
      "\n",
      "           0     0.7857    0.9286    0.8512       154\n",
      "           1     0.8721    0.6579    0.7500       114\n",
      "\n",
      "    accuracy                         0.8134       268\n",
      "   macro avg     0.8289    0.7932    0.8006       268\n",
      "weighted avg     0.8225    0.8134    0.8081       268\n",
      "\n"
     ]
    }
   ],
   "source": [
    "# apply all single  (Logistic regression,  KNN, Naive bayies, SVM, Decision tree), ensemble (RF, Extratrees, bagging m XGBoosting , gradient boosting , adaboost , voting , and stacking) ML models usign grid search\n",
    "\n",
    "from sklearn.linear_model import LogisticRegression\n",
    "from sklearn.neighbors import KNeighborsClassifier\n",
    "from sklearn.naive_bayes import GaussianNB\n",
    "from sklearn.svm import SVC\n",
    "from sklearn.tree import DecisionTreeClassifier\n",
    "from sklearn.ensemble import RandomForestClassifier, ExtraTreesClassifier, BaggingClassifier, AdaBoostClassifier, GradientBoostingClassifier, VotingClassifier\n",
    "from xgboost import XGBClassifier\n",
    "from sklearn.model_selection import GridSearchCV, cross_val_score, StratifiedKFold\n",
    "from sklearn.metrics import accuracy_score, classification_report\n",
    "\n",
    "# Single Models\n",
    "models = {\n",
    "    'Logistic Regression': LogisticRegression(),\n",
    "    'KNN': KNeighborsClassifier(),\n",
    "    'Naive Bayes': GaussianNB(),\n",
    "    'SVM': SVC(),\n",
    "    'Decision Tree': DecisionTreeClassifier()\n",
    "}\n",
    "\n",
    "# Ensemble Models\n",
    "ensemble_models = {\n",
    "    'Random Forest': RandomForestClassifier(),\n",
    "    'Extra Trees': ExtraTreesClassifier(),\n",
    "    'Bagging': BaggingClassifier(),\n",
    "    'AdaBoost': AdaBoostClassifier(),\n",
    "    'Gradient Boosting': GradientBoostingClassifier(),\n",
    "    'XGBoost': XGBClassifier()\n",
    "}\n",
    "\n",
    "# Hyperparameter Grids (Example - Customize for each model)\n",
    "param_grids = {\n",
    "    'Logistic Regression': {'C': [0.1, 1, 10]},\n",
    "    'KNN': {'n_neighbors': [3, 5, 7]},\n",
    "    'Naive Bayes': {}, # Add an empty dictionary for Naive Bayes since it doesn't usually require hyperparameter tuning\n",
    "    'SVM': {'C': [0.1, 1, 10], 'kernel': ['linear', 'rbf']},\n",
    "    'Decision Tree': {'max_depth': [None, 5, 10]},\n",
    "    'Random Forest': {'n_estimators': [50, 100, 200]},\n",
    "    'Extra Trees': {'n_estimators': [50, 100, 200]},\n",
    "    'Bagging': {'n_estimators': [10, 20, 30]},\n",
    "    'AdaBoost': {'n_estimators': [50, 100, 200]},\n",
    "    'Gradient Boosting': {'n_estimators': [50, 100, 200]},\n",
    "    'XGBoost': {'n_estimators': [50, 100, 200], 'learning_rate': [0.01, 0.1, 0.2]}\n",
    "}\n",
    "\n",
    "# Cross-validation strategy\n",
    "cv = StratifiedKFold(n_splits=5, shuffle=True, random_state=42)\n",
    "\n",
    "# Model Evaluation and Selection\n",
    "best_models = {}\n",
    "for name, model in models.items():\n",
    "    grid_search = GridSearchCV(model, param_grids[name], cv=cv, scoring='accuracy')\n",
    "    grid_search.fit(X_train, y_train)\n",
    "    best_models[name] = grid_search.best_estimator_\n",
    "    print(f\"{name}: Best Parameters - {grid_search.best_params_}, Best Score - {grid_search.best_score_}\")\n",
    "\n",
    "for name, model in ensemble_models.items():\n",
    "    grid_search = GridSearchCV(model, param_grids[name], cv=cv, scoring='accuracy')\n",
    "    grid_search.fit(X_train, y_train)\n",
    "    best_models[name] = grid_search.best_estimator_\n",
    "    print(f\"{name}: Best Parameters - {grid_search.best_params_}, Best Score - {grid_search.best_score_}\")\n",
    "\n",
    "# Voting and Stacking (Example - Customize estimators and voting method)\n",
    "estimators = [('rf', best_models['Random Forest']), ('xgb', best_models['XGBoost'])]\n",
    "voting_clf = VotingClassifier(estimators=estimators, voting='soft')  # or 'hard'\n",
    "voting_clf.fit(X_train, y_train)\n",
    "best_models['Voting'] = voting_clf\n",
    "\n",
    "# Evaluate Best Models on Test Set\n",
    "for name, model in best_models.items():\n",
    "    y_pred = model.predict(X_test)\n",
    "    accuracy = accuracy_score(y_test, y_pred)\n",
    "    report = classification_report(y_test, y_pred, digits=4)\n",
    "    print(f\"--- {name} ---\")\n",
    "    print(f\"Accuracy: {accuracy}\")\n",
    "    print(f\"Classification Report:\\n{report}\")\n"
   ]
  },
  {
   "cell_type": "markdown",
   "id": "730572a9",
   "metadata": {
    "papermill": {
     "duration": 0.023721,
     "end_time": "2024-09-19T19:01:43.210728",
     "exception": false,
     "start_time": "2024-09-19T19:01:43.187007",
     "status": "completed"
    },
    "tags": []
   },
   "source": [
    "### Test Data On Best Model (Voting )"
   ]
  },
  {
   "cell_type": "code",
   "execution_count": 54,
   "id": "c871a35c",
   "metadata": {
    "execution": {
     "iopub.execute_input": "2024-09-19T19:01:43.260715Z",
     "iopub.status.busy": "2024-09-19T19:01:43.259765Z",
     "iopub.status.idle": "2024-09-19T19:01:43.265039Z",
     "shell.execute_reply": "2024-09-19T19:01:43.264017Z"
    },
    "papermill": {
     "duration": 0.032456,
     "end_time": "2024-09-19T19:01:43.267162",
     "exception": false,
     "start_time": "2024-09-19T19:01:43.234706",
     "status": "completed"
    },
    "tags": []
   },
   "outputs": [],
   "source": [
    "# # Initialize variables to store the best model and best accuracy\n",
    "# best_model_name = None\n",
    "# best_model = None\n",
    "# best_accuracy = 0\n",
    "\n",
    "# # Evaluate Best Models on Test Set and identify the best one\n",
    "# for name, model in best_models.items():\n",
    "#     y_pred = model.predict(X_test)\n",
    "#     accuracy = accuracy_score(y_test, y_pred)\n",
    "#     report = classification_report(y_test, y_pred, digits=4)\n",
    "    \n",
    "#     # Print the results for each model\n",
    "#     print(f\"--- {name} ---\")\n",
    "#     print(f\"Accuracy: {accuracy:.4f}\")\n",
    "#     print(f\"Classification Report:\\n{report}\")\n",
    "    \n",
    "#     # Check if this model has the highest accuracy\n",
    "#     if accuracy > best_accuracy:\n",
    "#         best_accuracy = accuracy\n",
    "#         best_model_name = name\n",
    "#         best_model = model\n",
    "\n",
    "# # Print the best model and its performance\n",
    "# print(f\"\\nBest Model: {best_model_name}\")\n",
    "# print(f\"Best Accuracy: {best_accuracy:.4f}\")\n"
   ]
  },
  {
   "cell_type": "code",
   "execution_count": 55,
   "id": "5b051fac",
   "metadata": {
    "execution": {
     "iopub.execute_input": "2024-09-19T19:01:43.315681Z",
     "iopub.status.busy": "2024-09-19T19:01:43.315264Z",
     "iopub.status.idle": "2024-09-19T19:01:43.341689Z",
     "shell.execute_reply": "2024-09-19T19:01:43.340617Z"
    },
    "papermill": {
     "duration": 0.053506,
     "end_time": "2024-09-19T19:01:43.344092",
     "exception": false,
     "start_time": "2024-09-19T19:01:43.290586",
     "status": "completed"
    },
    "tags": []
   },
   "outputs": [
    {
     "name": "stdout",
     "output_type": "stream",
     "text": [
      "--- Voting Classifier ---\n",
      "Accuracy: 0.8134\n",
      "Classification Report:\n",
      "              precision    recall  f1-score   support\n",
      "\n",
      "           0     0.7857    0.9286    0.8512       154\n",
      "           1     0.8721    0.6579    0.7500       114\n",
      "\n",
      "    accuracy                         0.8134       268\n",
      "   macro avg     0.8289    0.7932    0.8006       268\n",
      "weighted avg     0.8225    0.8134    0.8081       268\n",
      "\n"
     ]
    }
   ],
   "source": [
    "# Predict using the best Voting model\n",
    "y_pred = best_models['Voting'].predict(X_test)\n",
    "\n",
    "# Evaluate the model's performance\n",
    "accuracy = accuracy_score(y_test, y_pred)\n",
    "report = classification_report(y_test, y_pred, digits=4)\n",
    "\n",
    "# Print the results\n",
    "print(f\"--- Voting Classifier ---\")\n",
    "print(f\"Accuracy: {accuracy:.4f}\")\n",
    "print(f\"Classification Report:\\n{report}\")\n"
   ]
  },
  {
   "cell_type": "code",
   "execution_count": 56,
   "id": "dd6c23c4",
   "metadata": {
    "execution": {
     "iopub.execute_input": "2024-09-19T19:01:43.393611Z",
     "iopub.status.busy": "2024-09-19T19:01:43.393221Z",
     "iopub.status.idle": "2024-09-19T19:01:43.411253Z",
     "shell.execute_reply": "2024-09-19T19:01:43.410373Z"
    },
    "papermill": {
     "duration": 0.047036,
     "end_time": "2024-09-19T19:01:43.414966",
     "exception": false,
     "start_time": "2024-09-19T19:01:43.367930",
     "status": "completed"
    },
    "tags": []
   },
   "outputs": [],
   "source": [
    "Test = test.drop(\"PassengerId\", axis=1).copy()\n",
    "predicted_value = best_models['Voting'].predict(Test)\n"
   ]
  },
  {
   "cell_type": "code",
   "execution_count": 57,
   "id": "bf116212",
   "metadata": {
    "execution": {
     "iopub.execute_input": "2024-09-19T19:01:43.463840Z",
     "iopub.status.busy": "2024-09-19T19:01:43.463423Z",
     "iopub.status.idle": "2024-09-19T19:01:43.472354Z",
     "shell.execute_reply": "2024-09-19T19:01:43.471424Z"
    },
    "papermill": {
     "duration": 0.036083,
     "end_time": "2024-09-19T19:01:43.474636",
     "exception": false,
     "start_time": "2024-09-19T19:01:43.438553",
     "status": "completed"
    },
    "tags": []
   },
   "outputs": [],
   "source": [
    "submission = pd.DataFrame({\n",
    "        \"PassengerId\": test[\"PassengerId\"],\n",
    "        \"Survived\": predicted_value\n",
    "    })\n",
    "\n",
    "submission.to_csv('submission.csv', index=False)"
   ]
  },
  {
   "cell_type": "markdown",
   "id": "2065ae7b",
   "metadata": {
    "papermill": {
     "duration": 0.023942,
     "end_time": "2024-09-19T19:01:43.522343",
     "exception": false,
     "start_time": "2024-09-19T19:01:43.498401",
     "status": "completed"
    },
    "tags": []
   },
   "source": [
    "# Created By : Fares Ashraf <3"
   ]
  }
 ],
 "metadata": {
  "kaggle": {
   "accelerator": "none",
   "dataSources": [
    {
     "databundleVersionId": 26502,
     "sourceId": 3136,
     "sourceType": "competition"
    }
   ],
   "dockerImageVersionId": 30761,
   "isGpuEnabled": false,
   "isInternetEnabled": true,
   "language": "python",
   "sourceType": "notebook"
  },
  "kernelspec": {
   "display_name": "Python 3",
   "language": "python",
   "name": "python3"
  },
  "language_info": {
   "codemirror_mode": {
    "name": "ipython",
    "version": 3
   },
   "file_extension": ".py",
   "mimetype": "text/x-python",
   "name": "python",
   "nbconvert_exporter": "python",
   "pygments_lexer": "ipython3",
   "version": "3.10.14"
  },
  "papermill": {
   "default_parameters": {},
   "duration": 35.062886,
   "end_time": "2024-09-19T19:01:44.267035",
   "environment_variables": {},
   "exception": null,
   "input_path": "__notebook__.ipynb",
   "output_path": "__notebook__.ipynb",
   "parameters": {},
   "start_time": "2024-09-19T19:01:09.204149",
   "version": "2.6.0"
  }
 },
 "nbformat": 4,
 "nbformat_minor": 5
}
